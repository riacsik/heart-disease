{
 "cells": [
  {
   "cell_type": "code",
   "execution_count": null,
   "id": "b4240f61-7abc-45f6-a900-ce401e38fafa",
   "metadata": {
    "tags": []
   },
   "outputs": [],
   "source": [
    "### Run this cell before continuing. \n",
    "library(tidyverse)\n",
    "library(repr)\n",
    "library(readxl)\n",
    "# library(rvest)\n",
    "# library(stringr)\n",
    "# install.packages('janitor')\n",
    "# library(janitor)\n",
    "library(ggplot2)\n",
    "#options(repr.matrix.max.rows = 50)"
   ]
  },
  {
   "cell_type": "markdown",
   "id": "5942a967-df25-45ea-b2f5-d8d8943e9a8e",
   "metadata": {},
   "source": [
    "**Demonstrating that the dataset can be read from the web into R:**"
   ]
  },
  {
   "cell_type": "code",
   "execution_count": null,
   "id": "7a317082-c8b6-4759-8f00-c27742655e52",
   "metadata": {
    "tags": []
   },
   "outputs": [],
   "source": [
    "# reading a csv file containing the data in processed.cleveland.data, \n",
    "# with a row of column names (these names are essentially the column names specified in cleve.mod, under ‘Original atts’, without the stuff in brackets)\n",
    "options(repr.matrix.max.rows = 2)\n",
    "\n",
    "cleveland_dataset_web <- read_csv(file = url(\"https://archive.ics.uci.edu/static/public/45/data.csv\"))\n",
    "\n",
    "# extracting the column names from the very first line of the csv file (because the other files I plan to import do not contain column names)\n",
    "first_row_contents <- read_csv(file = url(\"https://archive.ics.uci.edu/static/public/45/data.csv\"), n_max = 1) |> names()\n",
    "\n",
    "# reading a file containing the data in processed.hungarian.data\n",
    "hungarian_dataset_web <- read_delim(file = url(\"https://archive.ics.uci.edu/ml/machine-learning-databases/heart-disease/processed.hungarian.data\"), \n",
    "                                    delim = \",\", col_names = first_row_contents) |>\n",
    "                        mutate(trestbps = as.numeric(trestbps), chol = as.numeric(chol), fbs = as.numeric(fbs), restecg = as.numeric(restecg),\n",
    "                               thalach = as.numeric(thalach), exang = as.numeric(exang), oldpeak = as.numeric(oldpeak),\n",
    "                               slope = as.numeric(slope), ca = as.numeric(ca), thal = as.numeric(thal))\n",
    "\n",
    "# reading a file containing the data in processed.switzerland.data\n",
    "switzerland_dataset_web <- read_delim(file = url(\"https://archive.ics.uci.edu/ml/machine-learning-databases/heart-disease/processed.switzerland.data\"), \n",
    "                                    delim = \",\", col_names = first_row_contents) |>\n",
    "                        mutate(trestbps = as.numeric(trestbps), chol = as.numeric(chol), fbs = as.numeric(fbs), restecg = as.numeric(restecg), \n",
    "                               thalach = as.numeric(thalach), exang = as.numeric(exang), oldpeak = as.numeric(oldpeak),\n",
    "                               slope = as.numeric(slope), ca = as.numeric(ca), thal = as.numeric(thal))\n",
    "\n",
    "# reading a file containing the data in processed.va.data\n",
    "virginia_dataset_web <- read_delim(file = url(\"https://archive.ics.uci.edu/ml/machine-learning-databases/heart-disease/processed.va.data\"), \n",
    "                                    delim = \",\", col_names = first_row_contents) |>\n",
    "                        mutate(trestbps = as.numeric(trestbps), chol = as.numeric(chol), fbs = as.numeric(fbs), \n",
    "                               thalach = as.numeric(thalach), exang = as.numeric(exang), oldpeak = as.numeric(oldpeak),\n",
    "                               slope = as.numeric(slope), ca = as.numeric(ca), thal = as.numeric(thal))\n",
    "\n",
    "# reading a file containing the data in reprocessed.hungarian.data\n",
    "reprocessed_hungarian_dataset_web <- read_delim(file = url(\"https://archive.ics.uci.edu/ml/machine-learning-databases/heart-disease/reprocessed.hungarian.data\"), \n",
    "                                    delim = \" \", col_names = first_row_contents) |>\n",
    "                        mutate(trestbps = as.numeric(trestbps), chol = as.numeric(chol), fbs = as.numeric(fbs), restecg = as.numeric(restecg), \n",
    "                               thalach = as.numeric(thalach), exang = as.numeric(exang), oldpeak = as.numeric(oldpeak),\n",
    "                               slope = as.numeric(slope), ca = as.numeric(ca), thal = as.numeric(thal))\n",
    "\n",
    "global_dataset <- bind_rows(cleveland_dataset_web, hungarian_dataset_web, switzerland_dataset_web, virginia_dataset_web, reprocessed_hungarian_dataset_web)\n",
    "\n",
    "global_dataset"
   ]
  },
  {
   "cell_type": "markdown",
   "id": "e97c0d48-e1a2-48cd-8933-98ab5724f939",
   "metadata": {},
   "source": [
    "Excerpt from the file named heart-disease.names : \"Missing Attribute Values: Several.  Distinguished with value -9.0.\""
   ]
  },
  {
   "cell_type": "code",
   "execution_count": null,
   "id": "b0da943d-644f-4db1-aef9-b41702b0fa56",
   "metadata": {
    "tags": []
   },
   "outputs": [],
   "source": [
    "na_matrix <- global_dataset == \"-9\"\n",
    "\n",
    "is.na(global_dataset) <- na_matrix\n",
    "\n",
    "global_dataset"
   ]
  },
  {
   "cell_type": "markdown",
   "id": "39e1ba9c-5de1-4232-8d2d-2af5e34af489",
   "metadata": {},
   "source": [
    "**Cleaning and wrangling the data into a tidy format:**"
   ]
  },
  {
   "cell_type": "markdown",
   "id": "18e63b6d-1be6-4477-b625-56545c13867a",
   "metadata": {},
   "source": [
    "**summarizing the data in at least one table using only training data:**"
   ]
  },
  {
   "cell_type": "code",
   "execution_count": null,
   "id": "cd45a1be-f50f-4692-ae1a-784db2da64ac",
   "metadata": {},
   "outputs": [],
   "source": [
    "# we now try to create\n",
    "# a table that reports \n",
    "# the number of healthy and sick observations,\n",
    "# the number of rows with missing values for healthy and sick observations,\n",
    "# the percentage of healthy and sick observations,\n",
    "# the average ages of healthy and sick observations, \n",
    "# the average resting blood pressures of healthy and sick observations,\n",
    "# the average cholesterol of healthy and sick observations,\n",
    "# average max heart rate of healthy and sick observations,\n",
    "# average ST depression induced by exercise relative to rest for healthy and sick observations,\n",
    "# and the average number of vessels colored by flourosopy for healthy and sick observations,\n",
    "# for each class in our dataset"
   ]
  },
  {
   "cell_type": "code",
   "execution_count": null,
   "id": "94427222-112c-4983-bb3d-7df7dc093ccb",
   "metadata": {
    "tags": []
   },
   "outputs": [],
   "source": [
    "global_dataset <- as_tibble(global_dataset)\n",
    "\n",
    "global_dataset |>\n",
    "      rename(Class = num) |>\n",
    "      mutate(Class = as.factor(Class)) |>\n",
    "      mutate(Class = fct_recode(Class, \"healthy\" = \"0\", \"sick\" = \"1\", \"sick\" = \"2\", \"sick\" = \"3\", \"sick\" = \"4\")) |>\n",
    "      mutate(row_contains_na = (is.na(age) | is.na(sex) | is.na(cp) | is.na(trestbps) | is.na(chol) | is.na(fbs) | is.na(restecg) | is.na(thalach) | is.na(exang) | is.na(oldpeak) | is.na(slope) | is.na(ca) | is.na(thal))) |>\n",
    "      group_by(Class) |>\n",
    "      summarize(\n",
    "         count = n(), \n",
    "         num_rows_with_na = sum(row_contains_na),\n",
    "         percentage = count / nrow(global_dataset) * 100,\n",
    "         average_age = mean(age, na.rm = TRUE),\n",
    "         avg_resting_bp = mean(trestbps, na.rm = TRUE),\n",
    "         avg_cholestorol = mean(chol, na.rm = TRUE),\n",
    "         avg_max_hr = mean(thalach, na.rm = TRUE),\n",
    "         avg_oldpeak = mean(oldpeak, na.rm = TRUE),\n",
    "         avg_ca = mean(ca, na.rm = TRUE)\n",
    "         )\n",
    "\n",
    "global_dataset |>\n",
    "      pivot_longer(cols = c(age, sex, cp, trestbps, chol, fbs, restecg, thalach, exang, oldpeak, slope, ca, thal)) |>\n",
    "      rename(Class = num) |>\n",
    "      mutate(Class = as.factor(Class)) |>\n",
    "      mutate(Class = fct_recode(Class, \"healthy\" = \"0\", \"sick\" = \"1\", \"sick\" = \"2\", \"sick\" = \"3\", \"sick\" = \"4\")) |>\n",
    "      group_by(Class, name) |>\n",
    "      summarize(\n",
    "         num_missing_values = sum(is.na(value))\n",
    "      ) |> \n",
    "      group_by(Class) |>\n",
    "      summarize(num_cols_with_na = sum(num_missing_values > 0))\n"
   ]
  },
  {
   "cell_type": "markdown",
   "id": "12888c70-64f4-436e-8d1b-f131420e5f1c",
   "metadata": {},
   "source": [
    "The third column of the first summary tibble conveys that, out of all the rows in the dataset, \n",
    "\n",
    "439 of the rows corresponding to healthy observations have NA values, \n",
    "\n",
    "while 475 of rows corresponding to sick observations have NA values;\n",
    "\n"
   ]
  },
  {
   "cell_type": "markdown",
   "id": "922f9f1b-3459-41af-a9c2-0fee966e144f",
   "metadata": {},
   "source": [
    "On the other hand,\n",
    "\n",
    "The second column of the second summary tibble conveys that, out of all the rows in the dataset, \n",
    "\n",
    "the NA values in the rows corresponding to healthy observations are all located in exactly 9 of the 14 columns,\n",
    "\n",
    "while the NA values in the rows corresponding to sick observations are also located in exactly 10 of the 14 columns."
   ]
  },
  {
   "cell_type": "markdown",
   "id": "77bf855b-913b-4a7a-8a79-4f93f7ebdd3e",
   "metadata": {},
   "source": [
    "> **Note:**\n",
    "> \n",
    "> Some issues with cleveland.data:\n",
    "> 1) 'cleveland.data' is not UTF-8 encoded\n",
    "> 2) I don't know if we should use this data, because not only are there a bunch of negative values, the website where we downloaded this data does not specify the attributes that each of these columns correspond to\n",
    "> 3) The number of values in each row varies (wouldn't have been that big of an issue had we known what the attributes are, but alas, we don't"
   ]
  },
  {
   "cell_type": "code",
   "execution_count": null,
   "id": "cc8b622e-5a3b-4d21-8c6a-3d8c76dc559c",
   "metadata": {
    "tags": []
   },
   "outputs": [],
   "source": [
    "# preparing the dataset for the code that generates visualizations\n",
    "global_dataset <- global_dataset |>\n",
    "\n",
    "\n",
    "      mutate(sex = as_factor(sex)) |>\n",
    "      mutate(sex = fct_recode(sex, \"male\" = \"1\", \"female\" = \"0\")) |>\n",
    "\n",
    "\n",
    "      mutate(cp = as_factor(cp)) |>\n",
    "      mutate(cp = fct_recode(cp, \"typical angina\" = \"1\", \"atypical angina\" = \"2\", \"non-anginal pain\" = \"3\", \"asymptomatic\" = \"4\")) |>\n",
    "\n",
    "\n",
    "      mutate(fbs = as_factor(fbs)) |>\n",
    "      mutate(fbs = fct_recode(fbs, \"true\" = \"1\", \"false\" = \"0\")) |>      \n",
    "\n",
    "\n",
    "      mutate(restecg = as_factor(restecg)) |>\n",
    "      mutate(restecg = fct_recode(restecg, \"normal\" = \"0\", \"ST-T wave abnormality\" = \"1\", \"left ventricular hypertrophy\" = \"2\")) |>\n",
    "\n",
    "\n",
    "\n",
    "      mutate(exang = as_factor(exang)) |>\n",
    "      mutate(exang = fct_recode(exang, \"yes\" = \"1\", \"no\" = \"0\")) |>\n",
    "\n",
    "\n",
    "      mutate(slope = as_factor(slope)) |>\n",
    "      mutate(slope = fct_recode(slope, \"upsloping\" = \"1\", \"flat\" = \"2\", \"downsloping\" = \"3\")) |>\n",
    "      \n",
    "\n",
    "      mutate(thal = as_factor(thal)) |>\n",
    "      mutate(thal = fct_recode(thal, \"normal\" = \"3\", \"fixed\" = \"6\", \"reversable\" = \"7\")) |>\n",
    "\n",
    "\n",
    "      mutate(num = as.factor(num)) |>\n",
    "      mutate(num = fct_recode(num, \"healthy\" = \"0\", \"sick\" = \"1\", \"sick\" = \"2\", \"sick\" = \"3\", \"sick\" = \"4\"))"
   ]
  },
  {
   "cell_type": "code",
   "execution_count": null,
   "id": "659f815e-03c2-4532-87a7-a2a317320dfd",
   "metadata": {},
   "outputs": [],
   "source": [
    "options(repr.matrix.max.rows = 2)\n",
    "global_dataset <- global_dataset |>\n",
    "      rename(Age = age, Sex = sex, \"Chest_Pain_Type\" = cp, \"Resting_Blood_Pressure\" = trestbps, Cholesterol = chol, \"Fasting_blood_sugar_over_120_mg/dl\" = fbs,\n",
    "      \"Resting_ecg_results\" = restecg, \"Max_heart_rate\" = thalach, \"Exercise_induced_angina\" = exang, \"ST_depression_induced_by_exercise_relative_to_rest\" = oldpeak, \n",
    "      \"slope_of_the_peak_exercise_ST_segment\" = slope, \"Number_of_major_vessels_colored_by_flourosopy\" = ca, \"Thalassemia\" = thal, Class = num)\n",
    "\n",
    "global_dataset"
   ]
  },
  {
   "cell_type": "code",
   "execution_count": null,
   "id": "40d0b7e3-4d92-46c7-acea-4a2a29afd7be",
   "metadata": {
    "tags": []
   },
   "outputs": [],
   "source": [
    "# visualizing the data with a plot relevant to the analysis we plan to do using only training data\n",
    "\n",
    "options(repr.plot.width = 18, repr.plot.height = 18) \n",
    "\n",
    "# coloured and grouped-by-shape scatterplot\n",
    "\n",
    "# Age & Resting_Blood_Pressure \n",
    "age_rbp <- global_dataset |> \n",
    "    ggplot(aes(x = Age, y = Resting_Blood_Pressure)) + \n",
    "    geom_point(aes(colour = Class, shape = Class), size = 3) + \n",
    "    labs(title = \"Age versus Resting Blood Pressure\", x = \"Age\", y = \"Resting Blood Pressure\", colour = \"Heart Disease Diagnosis\", shape = \"Heart Disease Diagnosis\") + \n",
    "    theme(text = element_text(size = 20), plot.title = element_text(face = \"bold\"))\n",
    "age_rbp\n",
    "\n",
    "# Age & Cholesterol \n",
    "age_chol <- global_dataset |> \n",
    "    ggplot(aes(x = Age, y = Cholesterol)) + \n",
    "    geom_point(aes(colour = Class, shape = Class), size = 3) + \n",
    "    labs(title = \"Age versus Cholesterol\", x = \"Age\", y = \"Cholesterol\", colour = \"Heart Disease Diagnosis\", shape = \"Heart Disease Diagnosis\") + \n",
    "    theme(text = element_text(size = 20), plot.title = element_text(face = \"bold\"))\n",
    "age_chol\n",
    "\n",
    "# Age & Max_heart_rate\n",
    "age_maxhr <- global_dataset |> \n",
    "    ggplot(aes(x = Age, y = Max_heart_rate)) + \n",
    "    geom_point(aes(colour = Class, shape = Class), size = 3) + \n",
    "    labs(title = \"Age versus Max Heart Rate\", x = \"Age\", y = \"Max Heart Rate\", colour = \"Heart Disease Diagnosis\", shape = \"Heart Disease Diagnosis\") + \n",
    "    theme(text = element_text(size = 20), plot.title = element_text(face = \"bold\"))\n",
    "age_maxhr\n",
    "\n",
    "# Age & ST_depression_induced_by_exercise_relative_to_rest\n",
    "age_oldpeak <- global_dataset |> \n",
    "    ggplot(aes(x = Age, y = ST_depression_induced_by_exercise_relative_to_rest)) + \n",
    "    geom_point(aes(colour = Class, shape = Class), size = 3) + \n",
    "    labs(title = \"Age versus ST Depression\", x = \"Age\", y = \"ST Depression\", colour = \"Heart Disease Diagnosis\", shape = \"Heart Disease Diagnosis\") + \n",
    "    theme(text = element_text(size = 20), plot.title = element_text(face = \"bold\"))\n",
    "age_oldpeak\n",
    "\n",
    "# Age & Number_of_major_vessels_colored_by_flourosopy\n",
    "age_ca <- global_dataset |> \n",
    "    ggplot(aes(x = Age, y = Number_of_major_vessels_colored_by_flourosopy)) + \n",
    "    geom_point(aes(colour = Class, shape = Class), size = 3) + \n",
    "    labs(title = \"Age versus Number of major vessels colored by flourosopy\", x = \"Age\", y = \"Number of major vessels colored by flourosopy\", colour = \"Heart Disease Diagnosis\", shape = \"Heart Disease Diagnosis\") + \n",
    "    theme(text = element_text(size = 20), plot.title = element_text(face = \"bold\"))\n",
    "age_ca\n",
    "\n",
    "# Resting_Blood_Pressure & Cholesterol\n",
    "rbp_chol <- global_dataset |> \n",
    "    ggplot(aes(x = Resting_Blood_Pressure, y = Cholesterol)) + \n",
    "    geom_point(aes(colour = Class, shape = Class), size = 3) + \n",
    "    labs(title = \"Resting Blood Pressure versus Cholesterol\", x = \"Resting Blood Pressure\", y = \"Cholesterol\", colour = \"Heart Disease Diagnosis\", shape = \"Heart Disease Diagnosis\") + \n",
    "    theme(text = element_text(size = 20), plot.title = element_text(face = \"bold\"))\n",
    "rbp_chol\n",
    "\n",
    "# Resting_Blood_Pressure & Max_heart_rate\n",
    "rbp_mhr <- global_dataset |> \n",
    "    ggplot(aes(x = Resting_Blood_Pressure, y = Max_heart_rate)) + \n",
    "    geom_point(aes(colour = Class, shape = Class), size = 3) + \n",
    "    labs(title = \"Resting Blood Pressure versus Max Heart Rate\", x = \"Resting Blood Pressure\", y = \"Max Heart Rate\", colour = \"Heart Disease Diagnosis\", shape = \"Heart Disease Diagnosis\") + \n",
    "    theme(text = element_text(size = 20), plot.title = element_text(face = \"bold\"))\n",
    "rbp_mhr\n",
    "\n",
    "# Resting_Blood_Pressure & ST_depression_induced_by_exercise_relative_to_rest\n",
    "rbp_oldpeak <- global_dataset |> \n",
    "    ggplot(aes(x = Resting_Blood_Pressure, y = ST_depression_induced_by_exercise_relative_to_rest)) + \n",
    "    geom_point(aes(colour = Class, shape = Class), size = 3) + \n",
    "    labs(title = \"Resting Blood Pressure versus ST Depression induced by exercise relative to rest\", x = \"Resting Blood Pressure\", y = \"ST Depression induced by exercise relative to rest\", colour = \"Heart Disease Diagnosis\", shape = \"Heart Disease Diagnosis\") + \n",
    "    theme(text = element_text(size = 20), plot.title = element_text(face = \"bold\"))\n",
    "rbp_oldpeak\n",
    "\n",
    "# Resting_Blood_Pressure & Number_of_major_vessels_colored_by_flourosopy\n",
    "rbp_ca <- global_dataset |> \n",
    "    ggplot(aes(x = Resting_Blood_Pressure, y = Number_of_major_vessels_colored_by_flourosopy)) + \n",
    "    geom_point(aes(colour = Class, shape = Class), size = 3) + \n",
    "    labs(title = \"Resting Blood Pressure versus Number of major vessels colored by flourosopy\", x = \"Resting Blood Pressure\", y = \"Number of major vessels colored by flourosopy\", colour = \"Heart Disease Diagnosis\", shape = \"Heart Disease Diagnosis\") + \n",
    "    theme(text = element_text(size = 20), plot.title = element_text(face = \"bold\"))\n",
    "rbp_ca\n",
    "\n",
    "# Cholesterol & Max_heart_rate\n",
    "chol_mhr <- global_dataset |> \n",
    "    ggplot(aes(x = Cholesterol, y = Max_heart_rate)) + \n",
    "    geom_point(aes(colour = Class, shape = Class), size = 3) + \n",
    "    labs(title = \"Cholesterol versus Max Heart Rate\", x = \"Cholesterol\", y = \"Max Heart Rate\", colour = \"Heart Disease Diagnosis\", shape = \"Heart Disease Diagnosis\") + \n",
    "    theme(text = element_text(size = 20), plot.title = element_text(face = \"bold\"))\n",
    "chol_mhr\n",
    "\n",
    "# Cholesterol & ST_depression_induced_by_exercise_relative_to_rest\n",
    "chol_oldpeak <- global_dataset |> \n",
    "    ggplot(aes(x = Cholesterol, y = ST_depression_induced_by_exercise_relative_to_rest)) + \n",
    "    geom_point(aes(colour = Class, shape = Class), size = 3) + \n",
    "    labs(title = \"Cholesterol versus ST depression induced by exercise relative to rest\", x = \"Cholesterol\", y = \"ST depression induced by exercise relative to rest\", colour = \"Heart Disease Diagnosis\", shape = \"Heart Disease Diagnosis\") + \n",
    "    theme(text = element_text(size = 20), plot.title = element_text(face = \"bold\"))\n",
    "chol_oldpeak\n",
    "\n",
    "# Cholesterol & Number_of_major_vessels_colored_by_flourosopy\n",
    "chol_ca <- global_dataset |> \n",
    "    ggplot(aes(x = Cholesterol, y = Number_of_major_vessels_colored_by_flourosopy)) + \n",
    "    geom_point(aes(colour = Class, shape = Class), size = 3) + \n",
    "    labs(title = \"Cholesterol versus Number of major vessels colored by flourosopy\", x = \"Cholesterol\", y = \"Number of major vessels colored by flourosopy\", colour = \"Heart Disease Diagnosis\", shape = \"Heart Disease Diagnosis\") + \n",
    "    theme(text = element_text(size = 20), plot.title = element_text(face = \"bold\"))\n",
    "chol_ca\n",
    "\n",
    "# Max_heart_rate & ST_depression_induced_by_exercise_relative_to_rest\n",
    "mhr_oldpeak <- global_dataset |> \n",
    "    ggplot(aes(x = Max_heart_rate, y = ST_depression_induced_by_exercise_relative_to_rest)) + \n",
    "    geom_point(aes(colour = Class, shape = Class), size = 3) + \n",
    "    labs(title = \"Max Heart Rate versus ST Depression induced by exercise relative to rest\", x = \"Cholesterol\", y = \"ST Depression induced by exercise relative to rest\", colour = \"Heart Disease Diagnosis\", shape = \"Heart Disease Diagnosis\") + \n",
    "    theme(text = element_text(size = 20), plot.title = element_text(face = \"bold\"))\n",
    "mhr_oldpeak\n",
    "\n",
    "# Max_heart_rate & Number_of_major_vessels_colored_by_flourosopy\n",
    "mhr_ca <- global_dataset |> \n",
    "    ggplot(aes(x = Max_heart_rate, y = Number_of_major_vessels_colored_by_flourosopy)) + \n",
    "    geom_point(aes(colour = Class, shape = Class), size = 3) + \n",
    "    labs(title = \"Max Heart Rate versus Number of major vessels colored by flourosopy\", x = \"Max Heart Rate\", y = \"Number of major vessels colored by flourosopy\", colour = \"Heart Disease Diagnosis\", shape = \"Heart Disease Diagnosis\") + \n",
    "    theme(text = element_text(size = 20), plot.title = element_text(face = \"bold\"))\n",
    "mhr_ca\n",
    "\n",
    "# ST_depression_induced_by_exercise_relative_to_rest & Number_of_major_vessels_colored_by_flourosopy\n",
    "oldpeak_ca <- global_dataset |> \n",
    "    ggplot(aes(x = ST_depression_induced_by_exercise_relative_to_rest, y = Number_of_major_vessels_colored_by_flourosopy)) + \n",
    "    geom_point(aes(colour = Class, shape = Class), size = 3) + \n",
    "    labs(title = \"ST depression induced by exercise relative to rest versus Number of major vessels colored by flourosopy\", x = \"ST depression induced by exercise relative to rest\", y = \"Number of major vessels colored by flourosopy\", colour = \"Heart Disease Diagnosis\", shape = \"Heart Disease Diagnosis\") + \n",
    "    theme(text = element_text(size = 20), plot.title = element_text(face = \"bold\"))\n",
    "oldpeak_ca"
   ]
  },
  {
   "cell_type": "code",
   "execution_count": null,
   "id": "fed2a33c-c972-4f27-9e76-a231023910b3",
   "metadata": {
    "tags": []
   },
   "outputs": [],
   "source": [
    "# transparent black scatterplot\n",
    "\n",
    "# Max_heart_rate & ST_depression_induced_by_exercise_relative_to_rest\n",
    "mhr_oldpeak <- global_dataset |> \n",
    "    ggplot(aes(x = Max_heart_rate, y = ST_depression_induced_by_exercise_relative_to_rest)) + \n",
    "    geom_point(alpha = 0.3, size = 3) + \n",
    "    labs(title = \"Max Heart Rate versus ST Depression induced by exercise relative to rest\", x = \"Cholesterol\", y = \"ST Depression induced by exercise relative to rest\") + \n",
    "    theme(text = element_text(size = 20), plot.title = element_text(face = \"bold\"))\n",
    "mhr_oldpeak"
   ]
  },
  {
   "cell_type": "code",
   "execution_count": null,
   "id": "b4c2afcd-4973-4459-a94e-0ecd1f0d72f3",
   "metadata": {
    "tags": []
   },
   "outputs": [],
   "source": [
    "# grouped-by-colour scatterplot\n",
    "\n",
    "# Max_heart_rate & ST_depression_induced_by_exercise_relative_to_rest\n",
    "mhr_oldpeak <- global_dataset |> \n",
    "    ggplot(aes(x = Max_heart_rate, y = ST_depression_induced_by_exercise_relative_to_rest, colour = Class)) + \n",
    "    geom_point(alpha = 0.3, size = 3) + \n",
    "    labs(title = \"Max Heart Rate versus ST Depression induced by exercise relative to rest\", x = \"Cholesterol\", y = \"ST Depression induced by exercise relative to rest\", colour = \"Heart Disease Diagnosis\") + \n",
    "    theme(text = element_text(size = 20), plot.title = element_text(face = \"bold\"))\n",
    "mhr_oldpeak"
   ]
  },
  {
   "cell_type": "markdown",
   "id": "7437082f-447f-4979-8a49-e5e3b21af003",
   "metadata": {},
   "source": [
    "# Methods #\n",
    "\n",
    "## Explain how you will conduct either your data analysis and which variables/columns you will use. ##\n",
    "K-nearest neighbors algorithm will be used to predict if a patient is healthy or sick primarily based on their age, cholesterol, and/or resting blood pressure. Other factors, such as type of chest pain, may be explored to determine if filtering among groups would result in a more precise and accurate classification instead. \n",
    "\n",
    "\n",
    "## Describe at least one way that you will visualize the results ##\n",
    "\n",
    "Histograms will first be used to determine if there is an association between age, cholesterol, resting blood pressure and sick vs. healthy patients. Then, a scatterplot will be used to plot two of these variables against each other. The points will be colored based on sick vs. healthy. \n",
    "\n",
    "\n"
   ]
  },
  {
   "cell_type": "markdown",
   "id": "fda647e8-a4da-49f1-b593-0eeadba2da76",
   "metadata": {},
   "source": [
    "# Expected outcomes and significance #\n",
    "\n",
    "## What do you expect to find? ##\n",
    "This study aims to propose an accurate classification model for heart disease prediction using a machine learning classification algorithm, K-nearest neighbors.\n",
    "\n",
    "## What impact could such findings have? ##\n",
    "The findings of this study could have the potential to make an impact in the field of medical health since an accurate heart disease prediction model can assist intervention measures, which may lead to better patient outcomes.\n",
    "\n",
    "## What future questions could this lead to? ##\n",
    "Future questions that this could raise involve the comparability of the K-nearest neighbors classifier model to other models. For example, how does the accuracy of prediction with the K-nearest neighbors approach compared with other prediction models based on different machine learning algorithms? What are the advantages and limitations of the K-nearest neighbors method in comparison to the other methods in the case of predicting the heart disease? "
   ]
  },
  {
   "cell_type": "raw",
   "id": "0ee6941a-02aa-48c0-ba70-c604ebda3b22",
   "metadata": {},
   "source": [
    "source(\"cleanup.R\")"
   ]
  }
 ],
 "metadata": {
  "kernelspec": {
   "display_name": "R",
   "language": "R",
   "name": "ir"
  },
  "language_info": {
   "codemirror_mode": "r",
   "file_extension": ".r",
   "mimetype": "text/x-r-source",
   "name": "R",
   "pygments_lexer": "r",
   "version": "4.2.2"
  },
  "widgets": {
   "application/vnd.jupyter.widget-state+json": {
    "state": {},
    "version_major": 2,
    "version_minor": 0
   }
  }
 },
 "nbformat": 4,
 "nbformat_minor": 5
}
