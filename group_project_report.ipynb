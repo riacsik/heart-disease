{
 "cells": [
  {
   "cell_type": "markdown",
   "id": "fea11d17-fe37-4e33-91fa-88fe592d8fa5",
   "metadata": {
    "tags": []
   },
   "source": [
    "# Deducing Heart Disease in Patients #\n",
    "\n",
    "#### Ali Abbas, Jayson Wu, Ria Perencsik, and Durrotul Salma ####\n",
    "\n",
    "## Introduction ##\n",
    "\n",
    "#### __Background Information__ ####\n",
    "Heart disease describes a range of conditions that affect the heart, such as coronary heart disease and cardiomyopathy. Heart disease affects millions globally and is a major health concern, taking an estimated 17.9 million lives each year. One third of these deaths occur prematurely in people under 70 years of age. Many factors like high blood pressure and high cholesterol are associated with an increased risk of heart disease. \n",
    "\n",
    "The importance of identifying heart disease in patients early cannot be overstated. <br> As such, this project aims to assess the efficacy of predicting a patient's likelihood of having heart disease based on two key factors: \n",
    " - __ST depression__ (Note: ST corresponds to a segment seen in an ECG test. If the segment appears abnormally low and sits below the baseline, the person is said to have ST depression)\n",
    " - __maximum heart rate__\n",
    "\n",
    "to answer the question: <br>\n",
    "*How accurately can the presence of heart disease be predicted in patients through the classification of ST depression induced by exercise relative to rest and maximum heart rate as key factors in the assessment?*"
   ]
  },
  {
   "cell_type": "markdown",
   "id": "7a3f90bd-aab7-49bb-90bd-c7d20c88e818",
   "metadata": {
    "tags": []
   },
   "source": [
    "#### __Datasets Used__ ####\n",
    "We utilized the datasets: 'processed.cleveland.data', 'reprocessed.hungarian.data', 'processed.switzerland.data', and 'processed.va.data' from the Heart Disease Database to answer this question.\n",
    "\n",
    "<br> The column names created by the dataset are as follows: \n",
    "\n",
    "1. **Age** - Patient's age\n",
    "2. **Sex** - Patient's sex\n",
    "3. **Chest_Pain_Type** - Patient's chest pain type\n",
    "4. **Resting_Blood_Pressure** - Patient's Resting blood pressure\n",
    "5. **Cholesterol** - Patient's serum cholesterol level (mg/dl)\n",
    "6. **Fasting_blood_sugar_over_120_mg/dl** - True if patient's fasting blood sugar > 120mg/dl\n",
    "7. **Resting_ecg_results** - Patient's resting electrocardiographic results\n",
    "8. **Max_heart_rate** - Patient's maximum heart rate\n",
    "9. **Exercise_induced_angina** - 'yes' if patient's exercise induced angina, 'no' otherwise\n",
    "10. **ST_depression_induced_by_exercise_relative_to_rest** - Patient's ST Depression induced by exercise relative to rest levels\n",
    "11. **slope_of_the_peak_exercise_ST_segment** - The slope of the peak exercise ST segment ('downsloping', 'flat', or 'upsloping')\n",
    "12. **Number_of_major_vessels_colored_by_flourosopy** - Number of major vessels (0-3) colored by flourosopy\n",
    "13. **Thalassemia** - Presence of thalassemia in a patient ('fixed', 'reversible', or 'normal')\n",
    "14. **Class** - Diagnosis of heart disease ('healthy' or 'sick')\n",
    "\n",
    "\n",
    "Among these variables, ST depression and maximum heart rate were selected as predictors for the classification analysis due to their superior ability to form distinct clusters between healthy and sick groups compared to other factors in the dataset."
   ]
  },
  {
   "cell_type": "markdown",
   "id": "0fb0023a-42b7-4e2a-9090-7fe9e53b0317",
   "metadata": {},
   "source": [
    "As mentioned in `worksheet_classification2.ipynb`, we are to call `set.seed` exactly once at the beginning of the analysis, so that our random numbers are actually reasonably random."
   ]
  },
  {
   "cell_type": "code",
   "execution_count": 1,
   "id": "dacd7d76-2cc1-47b5-a03e-3c22ff6699bc",
   "metadata": {},
   "outputs": [],
   "source": [
    "set.seed(1234)"
   ]
  },
  {
   "cell_type": "markdown",
   "id": "6b7c12d9-739e-4c62-bfa6-0b318c176b9f",
   "metadata": {
    "tags": []
   },
   "source": [
    "### Reading the data set from the web into R ###"
   ]
  },
  {
   "cell_type": "code",
   "execution_count": 2,
   "id": "255247d7-c97e-4724-899f-3751399af96a",
   "metadata": {
    "tags": []
   },
   "outputs": [
    {
     "name": "stderr",
     "output_type": "stream",
     "text": [
      "── \u001b[1mAttaching packages\u001b[22m ─────────────────────────────────────── tidyverse 1.3.2 ──\n",
      "\u001b[32m✔\u001b[39m \u001b[34mggplot2\u001b[39m 3.4.2     \u001b[32m✔\u001b[39m \u001b[34mpurrr  \u001b[39m 1.0.1\n",
      "\u001b[32m✔\u001b[39m \u001b[34mtibble \u001b[39m 3.2.1     \u001b[32m✔\u001b[39m \u001b[34mdplyr  \u001b[39m 1.1.1\n",
      "\u001b[32m✔\u001b[39m \u001b[34mtidyr  \u001b[39m 1.3.0     \u001b[32m✔\u001b[39m \u001b[34mstringr\u001b[39m 1.5.0\n",
      "\u001b[32m✔\u001b[39m \u001b[34mreadr  \u001b[39m 2.1.3     \u001b[32m✔\u001b[39m \u001b[34mforcats\u001b[39m 0.5.2\n",
      "── \u001b[1mConflicts\u001b[22m ────────────────────────────────────────── tidyverse_conflicts() ──\n",
      "\u001b[31m✖\u001b[39m \u001b[34mdplyr\u001b[39m::\u001b[32mfilter()\u001b[39m masks \u001b[34mstats\u001b[39m::filter()\n",
      "\u001b[31m✖\u001b[39m \u001b[34mdplyr\u001b[39m::\u001b[32mlag()\u001b[39m    masks \u001b[34mstats\u001b[39m::lag()\n",
      "── \u001b[1mAttaching packages\u001b[22m ────────────────────────────────────── tidymodels 1.0.0 ──\n",
      "\n",
      "\u001b[32m✔\u001b[39m \u001b[34mbroom       \u001b[39m 1.0.2     \u001b[32m✔\u001b[39m \u001b[34mrsample     \u001b[39m 1.1.1\n",
      "\u001b[32m✔\u001b[39m \u001b[34mdials       \u001b[39m 1.1.0     \u001b[32m✔\u001b[39m \u001b[34mtune        \u001b[39m 1.0.1\n",
      "\u001b[32m✔\u001b[39m \u001b[34minfer       \u001b[39m 1.0.4     \u001b[32m✔\u001b[39m \u001b[34mworkflows   \u001b[39m 1.1.2\n",
      "\u001b[32m✔\u001b[39m \u001b[34mmodeldata   \u001b[39m 1.0.1     \u001b[32m✔\u001b[39m \u001b[34mworkflowsets\u001b[39m 1.0.0\n",
      "\u001b[32m✔\u001b[39m \u001b[34mparsnip     \u001b[39m 1.0.3     \u001b[32m✔\u001b[39m \u001b[34myardstick   \u001b[39m 1.1.0\n",
      "\u001b[32m✔\u001b[39m \u001b[34mrecipes     \u001b[39m 1.0.4     \n",
      "\n",
      "── \u001b[1mConflicts\u001b[22m ───────────────────────────────────────── tidymodels_conflicts() ──\n",
      "\u001b[31m✖\u001b[39m \u001b[34mscales\u001b[39m::\u001b[32mdiscard()\u001b[39m masks \u001b[34mpurrr\u001b[39m::discard()\n",
      "\u001b[31m✖\u001b[39m \u001b[34mdplyr\u001b[39m::\u001b[32mfilter()\u001b[39m   masks \u001b[34mstats\u001b[39m::filter()\n",
      "\u001b[31m✖\u001b[39m \u001b[34mrecipes\u001b[39m::\u001b[32mfixed()\u001b[39m  masks \u001b[34mstringr\u001b[39m::fixed()\n",
      "\u001b[31m✖\u001b[39m \u001b[34mdplyr\u001b[39m::\u001b[32mlag()\u001b[39m      masks \u001b[34mstats\u001b[39m::lag()\n",
      "\u001b[31m✖\u001b[39m \u001b[34myardstick\u001b[39m::\u001b[32mspec()\u001b[39m masks \u001b[34mreadr\u001b[39m::spec()\n",
      "\u001b[31m✖\u001b[39m \u001b[34mrecipes\u001b[39m::\u001b[32mstep()\u001b[39m   masks \u001b[34mstats\u001b[39m::step()\n",
      "\u001b[34m•\u001b[39m Learn how to get started at \u001b[32mhttps://www.tidymodels.org/start/\u001b[39m\n",
      "\n",
      "Updating HTML index of packages in '.Library'\n",
      "\n",
      "Making 'packages.html' ...\n",
      " done\n",
      "\n"
     ]
    }
   ],
   "source": [
    "### Run this cell before continuing. \n",
    "library(tidyverse)\n",
    "library(repr)\n",
    "library(readxl)\n",
    "library(tidymodels)\n",
    "# library(rvest)\n",
    "# library(stringr)\n",
    "# install.packages('janitor')\n",
    "# library(janitor)\n",
    "library(ggplot2)\n",
    "install.packages(\"kknn\")\n",
    "library(kknn)"
   ]
  },
  {
   "cell_type": "code",
   "execution_count": 3,
   "id": "ff824014-411b-49e7-93b0-8dbb7b4e76de",
   "metadata": {
    "tags": []
   },
   "outputs": [
    {
     "name": "stderr",
     "output_type": "stream",
     "text": [
      "\u001b[1mRows: \u001b[22m\u001b[34m303\u001b[39m \u001b[1mColumns: \u001b[22m\u001b[34m14\u001b[39m\n",
      "\u001b[36m──\u001b[39m \u001b[1mColumn specification\u001b[22m \u001b[36m────────────────────────────────────────────────────────\u001b[39m\n",
      "\u001b[1mDelimiter:\u001b[22m \",\"\n",
      "\u001b[32mdbl\u001b[39m (14): age, sex, cp, trestbps, chol, fbs, restecg, thalach, exang, oldpea...\n",
      "\n",
      "\u001b[36mℹ\u001b[39m Use `spec()` to retrieve the full column specification for this data.\n",
      "\u001b[36mℹ\u001b[39m Specify the column types or set `show_col_types = FALSE` to quiet this message.\n",
      "\u001b[1mRows: \u001b[22m\u001b[34m1\u001b[39m \u001b[1mColumns: \u001b[22m\u001b[34m14\u001b[39m\n",
      "\u001b[36m──\u001b[39m \u001b[1mColumn specification\u001b[22m \u001b[36m────────────────────────────────────────────────────────\u001b[39m\n",
      "\u001b[1mDelimiter:\u001b[22m \",\"\n",
      "\u001b[32mdbl\u001b[39m (14): age, sex, cp, trestbps, chol, fbs, restecg, thalach, exang, oldpea...\n",
      "\n",
      "\u001b[36mℹ\u001b[39m Use `spec()` to retrieve the full column specification for this data.\n",
      "\u001b[36mℹ\u001b[39m Specify the column types or set `show_col_types = FALSE` to quiet this message.\n",
      "\u001b[1mRows: \u001b[22m\u001b[34m123\u001b[39m \u001b[1mColumns: \u001b[22m\u001b[34m14\u001b[39m\n",
      "\u001b[36m──\u001b[39m \u001b[1mColumn specification\u001b[22m \u001b[36m────────────────────────────────────────────────────────\u001b[39m\n",
      "\u001b[1mDelimiter:\u001b[22m \",\"\n",
      "\u001b[31mchr\u001b[39m (9): trestbps, fbs, restecg, thalach, exang, oldpeak, slope, ca, thal\n",
      "\u001b[32mdbl\u001b[39m (5): age, sex, cp, chol, num\n",
      "\n",
      "\u001b[36mℹ\u001b[39m Use `spec()` to retrieve the full column specification for this data.\n",
      "\u001b[36mℹ\u001b[39m Specify the column types or set `show_col_types = FALSE` to quiet this message.\n",
      "Warning message:\n",
      "“\u001b[1m\u001b[22mThere were 9 warnings in `mutate()`.\n",
      "The first warning was:\n",
      "\u001b[1m\u001b[22m\u001b[36mℹ\u001b[39m In argument: `trestbps = as.numeric(trestbps)`.\n",
      "Caused by warning:\n",
      "\u001b[33m!\u001b[39m NAs introduced by coercion\n",
      "\u001b[1m\u001b[22m\u001b[36mℹ\u001b[39m Run `dplyr::last_dplyr_warnings()` to see the 8 remaining warnings.”\n",
      "\u001b[1mRows: \u001b[22m\u001b[34m200\u001b[39m \u001b[1mColumns: \u001b[22m\u001b[34m14\u001b[39m\n",
      "\u001b[36m──\u001b[39m \u001b[1mColumn specification\u001b[22m \u001b[36m────────────────────────────────────────────────────────\u001b[39m\n",
      "\u001b[1mDelimiter:\u001b[22m \",\"\n",
      "\u001b[31mchr\u001b[39m (9): trestbps, chol, fbs, thalach, exang, oldpeak, slope, ca, thal\n",
      "\u001b[32mdbl\u001b[39m (5): age, sex, cp, restecg, num\n",
      "\n",
      "\u001b[36mℹ\u001b[39m Use `spec()` to retrieve the full column specification for this data.\n",
      "\u001b[36mℹ\u001b[39m Specify the column types or set `show_col_types = FALSE` to quiet this message.\n",
      "Warning message:\n",
      "“\u001b[1m\u001b[22mThere were 9 warnings in `mutate()`.\n",
      "The first warning was:\n",
      "\u001b[1m\u001b[22m\u001b[36mℹ\u001b[39m In argument: `trestbps = as.numeric(trestbps)`.\n",
      "Caused by warning:\n",
      "\u001b[33m!\u001b[39m NAs introduced by coercion\n",
      "\u001b[1m\u001b[22m\u001b[36mℹ\u001b[39m Run `dplyr::last_dplyr_warnings()` to see the 8 remaining warnings.”\n",
      "\u001b[1mRows: \u001b[22m\u001b[34m294\u001b[39m \u001b[1mColumns: \u001b[22m\u001b[34m14\u001b[39m\n",
      "\u001b[36m──\u001b[39m \u001b[1mColumn specification\u001b[22m \u001b[36m────────────────────────────────────────────────────────\u001b[39m\n",
      "\u001b[1mDelimiter:\u001b[22m \" \"\n",
      "\u001b[32mdbl\u001b[39m (14): age, sex, cp, trestbps, chol, fbs, restecg, thalach, exang, oldpea...\n",
      "\n",
      "\u001b[36mℹ\u001b[39m Use `spec()` to retrieve the full column specification for this data.\n",
      "\u001b[36mℹ\u001b[39m Specify the column types or set `show_col_types = FALSE` to quiet this message.\n"
     ]
    }
   ],
   "source": [
    "# reading a csv file containing the data in processed.cleveland.data, \n",
    "# with a row of column names (these names are essentially the column names specified in cleve.mod, under ‘Original atts’, without the stuff in brackets)\n",
    "options(repr.matrix.max.rows = 25)\n",
    "\n",
    "cleveland_dataset_web <- read_csv(file = url(\"https://archive.ics.uci.edu/static/public/45/data.csv\"))\n",
    "\n",
    "# extracting the column names from the very first line of the csv file (because the other files I plan to import do not contain column names)\n",
    "first_row_contents <- read_csv(file = url(\"https://archive.ics.uci.edu/static/public/45/data.csv\"), n_max = 1) |> names()\n",
    "\n",
    "# reading a file containing the data in processed.switzerland.data\n",
    "switzerland_dataset_web <- read_delim(file = url(\"https://archive.ics.uci.edu/ml/machine-learning-databases/heart-disease/processed.switzerland.data\"), \n",
    "                                    delim = \",\", col_names = first_row_contents) |>\n",
    "                        mutate(trestbps = as.numeric(trestbps), chol = as.numeric(chol), fbs = as.numeric(fbs), restecg = as.numeric(restecg), \n",
    "                               thalach = as.numeric(thalach), exang = as.numeric(exang), oldpeak = as.numeric(oldpeak),\n",
    "                               slope = as.numeric(slope), ca = as.numeric(ca), thal = as.numeric(thal))\n",
    "\n",
    "# reading a file containing the data in processed.va.data\n",
    "virginia_dataset_web <- read_delim(file = url(\"https://archive.ics.uci.edu/ml/machine-learning-databases/heart-disease/processed.va.data\"), \n",
    "                                    delim = \",\", col_names = first_row_contents) |>\n",
    "                        mutate(trestbps = as.numeric(trestbps), chol = as.numeric(chol), fbs = as.numeric(fbs), \n",
    "                               thalach = as.numeric(thalach), exang = as.numeric(exang), oldpeak = as.numeric(oldpeak),\n",
    "                               slope = as.numeric(slope), ca = as.numeric(ca), thal = as.numeric(thal))\n",
    "\n",
    "# reading a file containing the data in reprocessed.hungarian.data\n",
    "reprocessed_hungarian_dataset_web <- read_delim(file = url(\"https://archive.ics.uci.edu/ml/machine-learning-databases/heart-disease/reprocessed.hungarian.data\"), \n",
    "                                    delim = \" \", col_names = first_row_contents) |>\n",
    "                        mutate(trestbps = as.numeric(trestbps), chol = as.numeric(chol), fbs = as.numeric(fbs), restecg = as.numeric(restecg), \n",
    "                               thalach = as.numeric(thalach), exang = as.numeric(exang), oldpeak = as.numeric(oldpeak),\n",
    "                               slope = as.numeric(slope), ca = as.numeric(ca), thal = as.numeric(thal))\n",
    "\n",
    "# reading the file titled heart-disease.names, because I will reference information when justifying some of the decisions we made as far as tidying the data is concerned\n",
    "notes_about_data <- read_file(file = url(\"https://archive.ics.uci.edu/ml/machine-learning-databases/heart-disease/heart-disease.names\"))\n",
    "\n",
    "global_dataset_missing <- bind_rows(cleveland_dataset_web, switzerland_dataset_web, virginia_dataset_web, reprocessed_hungarian_dataset_web)\n",
    "\n",
    "global_dataset_missing_first_25_rows <- global_dataset_missing |> slice(1:25)\n",
    "# global_dataset_missing_first_25_rows"
   ]
  },
  {
   "cell_type": "markdown",
   "id": "1922be75-681b-4e9c-aa1b-36a02eacb89f",
   "metadata": {},
   "source": [
    "Here we convert the value -9 into NA, because of this excerpt from the file named heart-disease.names: \n",
    "> \"Missing Attribute Values: Several.  Distinguished with value -9.0.\""
   ]
  },
  {
   "cell_type": "code",
   "execution_count": 4,
   "id": "c32c2684-141f-4867-b73a-0dc3d5b3cd12",
   "metadata": {
    "tags": []
   },
   "outputs": [],
   "source": [
    "na_matrix <- global_dataset_missing == \"-9\"\n",
    "\n",
    "is.na(global_dataset_missing) <- na_matrix"
   ]
  },
  {
   "cell_type": "markdown",
   "id": "c8dc05d4-2fc9-40ae-9098-a047a8dcd0f3",
   "metadata": {},
   "source": [
    "# Cleaning and wrangling the data into a tidy format #"
   ]
  },
  {
   "cell_type": "markdown",
   "id": "9226b0b7-9719-4b52-a1bb-2404b500871f",
   "metadata": {
    "tags": []
   },
   "source": [
    "## 1) summarizing the data in at least one table using only training data: ##"
   ]
  },
  {
   "cell_type": "markdown",
   "id": "2853a88d-1c55-415c-96b3-de710de6ea9e",
   "metadata": {},
   "source": [
    "we now try to create\n",
    "a table that reports \n",
    "the number of healthy and sick observations,\n",
    "the number of rows with missing values for healthy and sick observations,\n",
    "the percentage of healthy and sick observations,\n",
    "the average ages, resting blood pressures, cholesterol,\n",
    " max heart rate, ST depression induced by exercise relative to rest,\n",
    "and the average number of vessels colored by flourosopy for healthy and sick observations\n",
    "for each class in our dataset"
   ]
  },
  {
   "cell_type": "markdown",
   "id": "0dc39973-ae8d-46a2-b1d1-425208e5a8f5",
   "metadata": {},
   "source": [
    "The description of the num attribute in heart-disease.names doesn't match the possible values of num in any of the 4 data files we're using in our analysis.\n",
    "\n",
    "here are the discrepancies:\n",
    "\n",
    "a) under the subsection of heart-disease.names titled \"7. Attribute Information\", \n",
    "it states that num can either be 0 or 1, but looking through our data, values of num in the range 0:4 can be found within the first 25 rows of global_dataset\n",
    "\n",
    "b) under the subsection of heart-disease.names titled \"7. Attribute Information\", it is also stated that 0 indicates < 50% diameter narrowing,\n",
    "while 1 indicates > 50% diameter narrowing. However, it contradicts the description of num under the subsection of heart-disease.names titled \"4. Relevant Information\",\n",
    "which states that \"Experiments with the Cleveland database have concentrated on simply attempting to distinguish presence (values 1,2,3,4) from absence (value 0)\".\n",
    " \n",
    "As such, we strongly believe that 0 does not indicate < 50% diameter narrowing, and 1 does not indicate > 50% diameter narrowing.\n",
    "\n",
    "We proceed with our analysis based on the understanding that value 0 indicates absence of heart disease, while values 1, 2, 3, 4 indicate presence of heart disease"
   ]
  },
  {
   "cell_type": "code",
   "execution_count": 5,
   "id": "9cef39e9-330c-4e6c-99e2-d57f0d447175",
   "metadata": {
    "tags": []
   },
   "outputs": [
    {
     "data": {
      "text/html": [
       "<table class=\"dataframe\">\n",
       "<caption>A tibble: 2 × 10</caption>\n",
       "<thead>\n",
       "\t<tr><th scope=col>Class</th><th scope=col>count</th><th scope=col>num_rows_with_na</th><th scope=col>percentage</th><th scope=col>average_age</th><th scope=col>avg_resting_bp</th><th scope=col>avg_cholestorol</th><th scope=col>avg_max_hr</th><th scope=col>avg_oldpeak</th><th scope=col>avg_ca</th></tr>\n",
       "\t<tr><th scope=col>&lt;fct&gt;</th><th scope=col>&lt;int&gt;</th><th scope=col>&lt;int&gt;</th><th scope=col>&lt;dbl&gt;</th><th scope=col>&lt;dbl&gt;</th><th scope=col>&lt;dbl&gt;</th><th scope=col>&lt;dbl&gt;</th><th scope=col>&lt;dbl&gt;</th><th scope=col>&lt;dbl&gt;</th><th scope=col>&lt;dbl&gt;</th></tr>\n",
       "</thead>\n",
       "<tbody>\n",
       "\t<tr><td>healthy</td><td>411</td><td>251</td><td>44.67391</td><td>50.54745</td><td>129.9130</td><td>227.9056</td><td>148.8005</td><td>0.4182051</td><td>0.3313253</td></tr>\n",
       "\t<tr><td>sick   </td><td>509</td><td>370</td><td>55.32609</td><td>55.90373</td><td>133.9787</td><td>176.4799</td><td>128.2616</td><td>1.2626068</td><td>1.1319444</td></tr>\n",
       "</tbody>\n",
       "</table>\n"
      ],
      "text/latex": [
       "A tibble: 2 × 10\n",
       "\\begin{tabular}{llllllllll}\n",
       " Class & count & num\\_rows\\_with\\_na & percentage & average\\_age & avg\\_resting\\_bp & avg\\_cholestorol & avg\\_max\\_hr & avg\\_oldpeak & avg\\_ca\\\\\n",
       " <fct> & <int> & <int> & <dbl> & <dbl> & <dbl> & <dbl> & <dbl> & <dbl> & <dbl>\\\\\n",
       "\\hline\n",
       "\t healthy & 411 & 251 & 44.67391 & 50.54745 & 129.9130 & 227.9056 & 148.8005 & 0.4182051 & 0.3313253\\\\\n",
       "\t sick    & 509 & 370 & 55.32609 & 55.90373 & 133.9787 & 176.4799 & 128.2616 & 1.2626068 & 1.1319444\\\\\n",
       "\\end{tabular}\n"
      ],
      "text/markdown": [
       "\n",
       "A tibble: 2 × 10\n",
       "\n",
       "| Class &lt;fct&gt; | count &lt;int&gt; | num_rows_with_na &lt;int&gt; | percentage &lt;dbl&gt; | average_age &lt;dbl&gt; | avg_resting_bp &lt;dbl&gt; | avg_cholestorol &lt;dbl&gt; | avg_max_hr &lt;dbl&gt; | avg_oldpeak &lt;dbl&gt; | avg_ca &lt;dbl&gt; |\n",
       "|---|---|---|---|---|---|---|---|---|---|\n",
       "| healthy | 411 | 251 | 44.67391 | 50.54745 | 129.9130 | 227.9056 | 148.8005 | 0.4182051 | 0.3313253 |\n",
       "| sick    | 509 | 370 | 55.32609 | 55.90373 | 133.9787 | 176.4799 | 128.2616 | 1.2626068 | 1.1319444 |\n",
       "\n"
      ],
      "text/plain": [
       "  Class   count num_rows_with_na percentage average_age avg_resting_bp\n",
       "1 healthy 411   251              44.67391   50.54745    129.9130      \n",
       "2 sick    509   370              55.32609   55.90373    133.9787      \n",
       "  avg_cholestorol avg_max_hr avg_oldpeak avg_ca   \n",
       "1 227.9056        148.8005   0.4182051   0.3313253\n",
       "2 176.4799        128.2616   1.2626068   1.1319444"
      ]
     },
     "metadata": {},
     "output_type": "display_data"
    },
    {
     "name": "stderr",
     "output_type": "stream",
     "text": [
      "\u001b[1m\u001b[22m`summarise()` has grouped output by 'Class'. You can override using the\n",
      "`.groups` argument.\n"
     ]
    },
    {
     "data": {
      "text/html": [
       "<table class=\"dataframe\">\n",
       "<caption>A tibble: 2 × 2</caption>\n",
       "<thead>\n",
       "\t<tr><th scope=col>Class</th><th scope=col>num_cols_with_na</th></tr>\n",
       "\t<tr><th scope=col>&lt;fct&gt;</th><th scope=col>&lt;int&gt;</th></tr>\n",
       "</thead>\n",
       "<tbody>\n",
       "\t<tr><td>healthy</td><td> 9</td></tr>\n",
       "\t<tr><td>sick   </td><td>10</td></tr>\n",
       "</tbody>\n",
       "</table>\n"
      ],
      "text/latex": [
       "A tibble: 2 × 2\n",
       "\\begin{tabular}{ll}\n",
       " Class & num\\_cols\\_with\\_na\\\\\n",
       " <fct> & <int>\\\\\n",
       "\\hline\n",
       "\t healthy &  9\\\\\n",
       "\t sick    & 10\\\\\n",
       "\\end{tabular}\n"
      ],
      "text/markdown": [
       "\n",
       "A tibble: 2 × 2\n",
       "\n",
       "| Class &lt;fct&gt; | num_cols_with_na &lt;int&gt; |\n",
       "|---|---|\n",
       "| healthy |  9 |\n",
       "| sick    | 10 |\n",
       "\n"
      ],
      "text/plain": [
       "  Class   num_cols_with_na\n",
       "1 healthy  9              \n",
       "2 sick    10              "
      ]
     },
     "metadata": {},
     "output_type": "display_data"
    }
   ],
   "source": [
    "global_dataset_missing <- as_tibble(global_dataset_missing)\n",
    "\n",
    "global_dataset_missing |>\n",
    "      rename(Class = num) |>\n",
    "      mutate(Class = as.factor(Class)) |>\n",
    "      mutate(Class = fct_recode(Class, \"healthy\" = \"0\", \"sick\" = \"1\", \"sick\" = \"2\", \"sick\" = \"3\", \"sick\" = \"4\")) |>\n",
    "      mutate(row_contains_na = (is.na(age) | is.na(sex) | is.na(cp) | is.na(trestbps) | is.na(chol) | is.na(fbs) | is.na(restecg) | is.na(thalach) | is.na(exang) | is.na(oldpeak) | is.na(slope) | is.na(ca) | is.na(thal))) |>\n",
    "      group_by(Class) |>\n",
    "      summarize(\n",
    "         count = n(), \n",
    "         num_rows_with_na = sum(row_contains_na),\n",
    "         percentage = count / nrow(global_dataset_missing) * 100,\n",
    "         average_age = mean(age, na.rm = TRUE),\n",
    "         avg_resting_bp = mean(trestbps, na.rm = TRUE),\n",
    "         avg_cholestorol = mean(chol, na.rm = TRUE),\n",
    "         avg_max_hr = mean(thalach, na.rm = TRUE),\n",
    "         avg_oldpeak = mean(oldpeak, na.rm = TRUE),\n",
    "         avg_ca = mean(ca, na.rm = TRUE)\n",
    "         )\n",
    "\n",
    "global_dataset_missing |>\n",
    "      pivot_longer(cols = c(age, sex, cp, trestbps, chol, fbs, restecg, thalach, exang, oldpeak, slope, ca, thal)) |>\n",
    "      rename(Class = num) |>\n",
    "      mutate(Class = as.factor(Class)) |>\n",
    "      mutate(Class = fct_recode(Class, \"healthy\" = \"0\", \"sick\" = \"1\", \"sick\" = \"2\", \"sick\" = \"3\", \"sick\" = \"4\")) |>\n",
    "      group_by(Class, name) |>\n",
    "      summarize(\n",
    "         num_missing_values = sum(is.na(value))\n",
    "      ) |> \n",
    "      group_by(Class) |>\n",
    "      summarize(num_cols_with_na = sum(num_missing_values > 0))"
   ]
  },
  {
   "cell_type": "markdown",
   "id": "4feb41a1-7c5a-49c0-ba4a-5c4f7e40ae10",
   "metadata": {},
   "source": [
    "Explaining what the values of num_rows_with_na (third column of the first summary tibble) and num_cols_with_na (second column of the second summary table) represent:\n",
    "\n",
    "The third column of the first summary tibble conveys that, out of all the rows in the dataset, 439 of the rows corresponding to healthy observations have NA values, while 475 of rows corresponding to sick observations have NA values. Meanwhile, the second column of the second summary tibble conveys that, out of all the rows in the dataset, the NA values in the rows corresponding to healthy observations are all located in exactly 9 of the 14 columns while the NA values in the rows corresponding to sick observations are also located in exactly 10 of the 14 columns."
   ]
  },
  {
   "cell_type": "markdown",
   "id": "a811c40c-10da-4b47-b505-acb833fd1a36",
   "metadata": {},
   "source": [
    "# Justification for the datasets we chose to use: #\n",
    "\n",
    "After reading through lines 109 - 124 of **heart-disease.names**, \n",
    "it became clear to us that, although the data collected during numerous heart disease diagnoses could be partitioned into 76 attributes, only 14 of the attributes were eventually used in experiments revolving heart diseases. Since the objective of our project is to predict whether or not an observed individual may or may not have heart disease, we decided that we would also choose from the data files that consisted of only the 14 attributes that had been used by researchers.\n",
    "As such, our choices for data files were narrowed down to:\n",
    "> processed.cleveland.data\n",
    ">\n",
    "> data.csv \n",
    ">\n",
    "> processed.hungarian.data\n",
    ">\n",
    "> processed.switzerland.data\n",
    ">\n",
    "> processed.va.data\n",
    ">\n",
    "> reprocessed.hungarian.data\n",
    "\n",
    "Deciding between processed.cleveland.data and data.csv:\n",
    "> we saw that data.csv essentially contained the same information as processed.cleveland.data, \n",
    "> but data.csv also contained the names of the 14 attributes in the correct order. Therefore, \n",
    "> we decided to go with data.csv over processed.cleveland.data\n",
    "\n",
    "Deciding between processed.hungarian.data and reprocessed.hungarian.data\n",
    "> we saw that both files were identical save for the fact that the missing values in processed.hungarian.data were represented with a \"?\".\n",
    "> As such, we decided to go with reprocessed.hungarian.data over processed.hungarian.data"
   ]
  },
  {
   "cell_type": "code",
   "execution_count": 6,
   "id": "11af767e-8a7e-44e6-8822-5d1f5ca941cb",
   "metadata": {
    "tags": []
   },
   "outputs": [],
   "source": [
    "# preparing the dataset for the code that generates visualizations\n",
    "\n",
    "# here I am merely moving the num column from the rightmost column to the leftmost column\n",
    "global_dataset_missing <- global_dataset_missing |>\n",
    "      select(num, age, sex, cp, trestbps, chol, fbs, restecg, thalach, exang, oldpeak, slope, ca, thal)"
   ]
  },
  {
   "cell_type": "markdown",
   "id": "fa1ab65c-219c-4e18-8faa-f26ac4603887",
   "metadata": {},
   "source": [
    "Since a large proportion of rows in the dataset associated with both healthy and sick observations, respectively, have NA values, we have made the decision to impute the missing entries of each row in the dataset. \n",
    "\n",
    "\n",
    "I had to drop all categorical variables, which includes Sex, Chest Pain Type (cp), Fasting_blood_sugar_over_120_mg/dl (fbs), Resting_ecg_results (restecg), Exercise_induced_angina (exang), slope_of_the_peak_exercise_ST_segment (slope), and Thalassemia type (thal). \n",
    "\n",
    "The reason is that those are categorical variables, and even if they're encoded by doubles, it does not make sense to impute missing values of these variables. \n",
    "In addition, although the Number_of_major_vessels_colored_by_flourosopy (ca) looks like a numerical variable, it is actually a categorical variable, because the set of possible values that this variable can take on is {0, 1, 2, 3}. As such, this variable has also been dropped."
   ]
  },
  {
   "cell_type": "code",
   "execution_count": 7,
   "id": "12b9e0e6-2ede-4a37-b744-d1ebfb2d463a",
   "metadata": {},
   "outputs": [],
   "source": [
    "options(repr.matrix.max.rows = 10)\n",
    "\n",
    "global_dataset_missing <- global_dataset_missing |>\n",
    "      rename(Class = num)"
   ]
  },
  {
   "cell_type": "markdown",
   "id": "cd1fe99f-0247-47ba-9eec-994aa6a45099",
   "metadata": {},
   "source": [
    "Creating a tidymodels recipe to standardize our predictors and impute their missing entries:"
   ]
  },
  {
   "cell_type": "code",
   "execution_count": 8,
   "id": "3406129e-c754-4578-8bee-8268e5d8b4b0",
   "metadata": {},
   "outputs": [
    {
     "data": {
      "text/plain": [
       "Recipe\n",
       "\n",
       "Inputs:\n",
       "\n",
       "      role #variables\n",
       "   outcome          1\n",
       " predictor          5\n",
       "\n",
       "Operations:\n",
       "\n",
       "Mean imputation for all_predictors()\n",
       "Centering for all_predictors()\n",
       "Scaling for all_predictors()"
      ]
     },
     "metadata": {},
     "output_type": "display_data"
    }
   ],
   "source": [
    "impute_missing_recipe <- recipe(Class ~ age + trestbps + chol + thalach + oldpeak, data = global_dataset_missing) |>\n",
    "  step_impute_mean(all_predictors()) |>\n",
    "  step_center(all_predictors()) |>\n",
    "  step_scale(all_predictors())\n",
    "impute_missing_recipe"
   ]
  },
  {
   "cell_type": "code",
   "execution_count": 9,
   "id": "bbc76716-8481-4acc-a47c-d6ef42d653ae",
   "metadata": {},
   "outputs": [
    {
     "data": {
      "text/html": [
       "<table class=\"dataframe\">\n",
       "<caption>A tibble: 920 × 6</caption>\n",
       "<thead>\n",
       "\t<tr><th scope=col>age</th><th scope=col>trestbps</th><th scope=col>chol</th><th scope=col>thalach</th><th scope=col>oldpeak</th><th scope=col>Class</th></tr>\n",
       "\t<tr><th scope=col>&lt;dbl&gt;</th><th scope=col>&lt;dbl&gt;</th><th scope=col>&lt;dbl&gt;</th><th scope=col>&lt;dbl&gt;</th><th scope=col>&lt;dbl&gt;</th><th scope=col>&lt;dbl&gt;</th></tr>\n",
       "</thead>\n",
       "<tbody>\n",
       "\t<tr><td> 1.006838</td><td> 0.6976615</td><td>0.31085168</td><td> 0.4954288</td><td>1.3486878</td><td>0</td></tr>\n",
       "\t<tr><td> 1.431255</td><td> 1.5109388</td><td>0.79727927</td><td>-1.1753156</td><td>0.5895117</td><td>2</td></tr>\n",
       "\t<tr><td> 1.431255</td><td>-0.6578005</td><td>0.27414016</td><td>-0.3399434</td><td>1.6333789</td><td>1</td></tr>\n",
       "\t<tr><td>-1.751875</td><td>-0.1156157</td><td>0.46687562</td><td> 1.9672751</td><td>2.4874520</td><td>0</td></tr>\n",
       "\t<tr><td>-1.327458</td><td>-0.1156157</td><td>0.04469318</td><td> 1.3705807</td><td>0.4946147</td><td>0</td></tr>\n",
       "\t<tr><td>⋮</td><td>⋮</td><td>⋮</td><td>⋮</td><td>⋮</td><td>⋮</td></tr>\n",
       "\t<tr><td>-0.58472718</td><td> 0.0000000</td><td> 0.9991926</td><td> 0.00000000</td><td> 1.0639968</td><td>0</td></tr>\n",
       "\t<tr><td>-1.85797925</td><td>-0.6578005</td><td>-0.3040662</td><td> 1.68881774</td><td>-0.8339434</td><td>0</td></tr>\n",
       "\t<tr><td>-0.58472718</td><td>-1.1999854</td><td> 0.1089383</td><td> 0.01807329</td><td>-0.8339434</td><td>0</td></tr>\n",
       "\t<tr><td>-0.69083152</td><td> 0.4265691</td><td> 0.5311208</td><td>-0.10126560</td><td> 0.1150267</td><td>0</td></tr>\n",
       "\t<tr><td>-0.05420548</td><td>-0.1156157</td><td>-0.1572202</td><td> 0.41586959</td><td>-0.8339434</td><td>0</td></tr>\n",
       "</tbody>\n",
       "</table>\n"
      ],
      "text/latex": [
       "A tibble: 920 × 6\n",
       "\\begin{tabular}{llllll}\n",
       " age & trestbps & chol & thalach & oldpeak & Class\\\\\n",
       " <dbl> & <dbl> & <dbl> & <dbl> & <dbl> & <dbl>\\\\\n",
       "\\hline\n",
       "\t  1.006838 &  0.6976615 & 0.31085168 &  0.4954288 & 1.3486878 & 0\\\\\n",
       "\t  1.431255 &  1.5109388 & 0.79727927 & -1.1753156 & 0.5895117 & 2\\\\\n",
       "\t  1.431255 & -0.6578005 & 0.27414016 & -0.3399434 & 1.6333789 & 1\\\\\n",
       "\t -1.751875 & -0.1156157 & 0.46687562 &  1.9672751 & 2.4874520 & 0\\\\\n",
       "\t -1.327458 & -0.1156157 & 0.04469318 &  1.3705807 & 0.4946147 & 0\\\\\n",
       "\t ⋮ & ⋮ & ⋮ & ⋮ & ⋮ & ⋮\\\\\n",
       "\t -0.58472718 &  0.0000000 &  0.9991926 &  0.00000000 &  1.0639968 & 0\\\\\n",
       "\t -1.85797925 & -0.6578005 & -0.3040662 &  1.68881774 & -0.8339434 & 0\\\\\n",
       "\t -0.58472718 & -1.1999854 &  0.1089383 &  0.01807329 & -0.8339434 & 0\\\\\n",
       "\t -0.69083152 &  0.4265691 &  0.5311208 & -0.10126560 &  0.1150267 & 0\\\\\n",
       "\t -0.05420548 & -0.1156157 & -0.1572202 &  0.41586959 & -0.8339434 & 0\\\\\n",
       "\\end{tabular}\n"
      ],
      "text/markdown": [
       "\n",
       "A tibble: 920 × 6\n",
       "\n",
       "| age &lt;dbl&gt; | trestbps &lt;dbl&gt; | chol &lt;dbl&gt; | thalach &lt;dbl&gt; | oldpeak &lt;dbl&gt; | Class &lt;dbl&gt; |\n",
       "|---|---|---|---|---|---|\n",
       "|  1.006838 |  0.6976615 | 0.31085168 |  0.4954288 | 1.3486878 | 0 |\n",
       "|  1.431255 |  1.5109388 | 0.79727927 | -1.1753156 | 0.5895117 | 2 |\n",
       "|  1.431255 | -0.6578005 | 0.27414016 | -0.3399434 | 1.6333789 | 1 |\n",
       "| -1.751875 | -0.1156157 | 0.46687562 |  1.9672751 | 2.4874520 | 0 |\n",
       "| -1.327458 | -0.1156157 | 0.04469318 |  1.3705807 | 0.4946147 | 0 |\n",
       "| ⋮ | ⋮ | ⋮ | ⋮ | ⋮ | ⋮ |\n",
       "| -0.58472718 |  0.0000000 |  0.9991926 |  0.00000000 |  1.0639968 | 0 |\n",
       "| -1.85797925 | -0.6578005 | -0.3040662 |  1.68881774 | -0.8339434 | 0 |\n",
       "| -0.58472718 | -1.1999854 |  0.1089383 |  0.01807329 | -0.8339434 | 0 |\n",
       "| -0.69083152 |  0.4265691 |  0.5311208 | -0.10126560 |  0.1150267 | 0 |\n",
       "| -0.05420548 | -0.1156157 | -0.1572202 |  0.41586959 | -0.8339434 | 0 |\n",
       "\n"
      ],
      "text/plain": [
       "    age         trestbps   chol       thalach     oldpeak    Class\n",
       "1    1.006838    0.6976615 0.31085168  0.4954288  1.3486878  0    \n",
       "2    1.431255    1.5109388 0.79727927 -1.1753156  0.5895117  2    \n",
       "3    1.431255   -0.6578005 0.27414016 -0.3399434  1.6333789  1    \n",
       "4   -1.751875   -0.1156157 0.46687562  1.9672751  2.4874520  0    \n",
       "5   -1.327458   -0.1156157 0.04469318  1.3705807  0.4946147  0    \n",
       "⋮   ⋮           ⋮          ⋮          ⋮           ⋮          ⋮    \n",
       "916 -0.58472718  0.0000000  0.9991926  0.00000000  1.0639968 0    \n",
       "917 -1.85797925 -0.6578005 -0.3040662  1.68881774 -0.8339434 0    \n",
       "918 -0.58472718 -1.1999854  0.1089383  0.01807329 -0.8339434 0    \n",
       "919 -0.69083152  0.4265691  0.5311208 -0.10126560  0.1150267 0    \n",
       "920 -0.05420548 -0.1156157 -0.1572202  0.41586959 -0.8339434 0    "
      ]
     },
     "metadata": {},
     "output_type": "display_data"
    }
   ],
   "source": [
    "imputed_and_scaled_global_dataset <- impute_missing_recipe |>  \n",
    "                            prep() |> \n",
    "                            bake(global_dataset_missing)\n",
    "\n",
    "imputed_and_scaled_global_dataset"
   ]
  },
  {
   "cell_type": "markdown",
   "id": "ae7e29ca-df24-46a6-b375-d0d7b6101bec",
   "metadata": {},
   "source": [
    "here I am merely moving the Class column from the rightmost column to the leftmost column"
   ]
  },
  {
   "cell_type": "code",
   "execution_count": 10,
   "id": "53dd37a4-cbfb-4f33-934c-2e02d320ebd9",
   "metadata": {},
   "outputs": [
    {
     "data": {
      "text/html": [
       "<table class=\"dataframe\">\n",
       "<caption>A tibble: 920 × 6</caption>\n",
       "<thead>\n",
       "\t<tr><th scope=col>Class</th><th scope=col>age</th><th scope=col>trestbps</th><th scope=col>chol</th><th scope=col>thalach</th><th scope=col>oldpeak</th></tr>\n",
       "\t<tr><th scope=col>&lt;dbl&gt;</th><th scope=col>&lt;dbl&gt;</th><th scope=col>&lt;dbl&gt;</th><th scope=col>&lt;dbl&gt;</th><th scope=col>&lt;dbl&gt;</th><th scope=col>&lt;dbl&gt;</th></tr>\n",
       "</thead>\n",
       "<tbody>\n",
       "\t<tr><td>0</td><td> 1.006838</td><td> 0.6976615</td><td>0.31085168</td><td> 0.4954288</td><td>1.3486878</td></tr>\n",
       "\t<tr><td>2</td><td> 1.431255</td><td> 1.5109388</td><td>0.79727927</td><td>-1.1753156</td><td>0.5895117</td></tr>\n",
       "\t<tr><td>1</td><td> 1.431255</td><td>-0.6578005</td><td>0.27414016</td><td>-0.3399434</td><td>1.6333789</td></tr>\n",
       "\t<tr><td>0</td><td>-1.751875</td><td>-0.1156157</td><td>0.46687562</td><td> 1.9672751</td><td>2.4874520</td></tr>\n",
       "\t<tr><td>0</td><td>-1.327458</td><td>-0.1156157</td><td>0.04469318</td><td> 1.3705807</td><td>0.4946147</td></tr>\n",
       "\t<tr><td>⋮</td><td>⋮</td><td>⋮</td><td>⋮</td><td>⋮</td><td>⋮</td></tr>\n",
       "\t<tr><td>0</td><td>-0.58472718</td><td> 0.0000000</td><td> 0.9991926</td><td> 0.00000000</td><td> 1.0639968</td></tr>\n",
       "\t<tr><td>0</td><td>-1.85797925</td><td>-0.6578005</td><td>-0.3040662</td><td> 1.68881774</td><td>-0.8339434</td></tr>\n",
       "\t<tr><td>0</td><td>-0.58472718</td><td>-1.1999854</td><td> 0.1089383</td><td> 0.01807329</td><td>-0.8339434</td></tr>\n",
       "\t<tr><td>0</td><td>-0.69083152</td><td> 0.4265691</td><td> 0.5311208</td><td>-0.10126560</td><td> 0.1150267</td></tr>\n",
       "\t<tr><td>0</td><td>-0.05420548</td><td>-0.1156157</td><td>-0.1572202</td><td> 0.41586959</td><td>-0.8339434</td></tr>\n",
       "</tbody>\n",
       "</table>\n"
      ],
      "text/latex": [
       "A tibble: 920 × 6\n",
       "\\begin{tabular}{llllll}\n",
       " Class & age & trestbps & chol & thalach & oldpeak\\\\\n",
       " <dbl> & <dbl> & <dbl> & <dbl> & <dbl> & <dbl>\\\\\n",
       "\\hline\n",
       "\t 0 &  1.006838 &  0.6976615 & 0.31085168 &  0.4954288 & 1.3486878\\\\\n",
       "\t 2 &  1.431255 &  1.5109388 & 0.79727927 & -1.1753156 & 0.5895117\\\\\n",
       "\t 1 &  1.431255 & -0.6578005 & 0.27414016 & -0.3399434 & 1.6333789\\\\\n",
       "\t 0 & -1.751875 & -0.1156157 & 0.46687562 &  1.9672751 & 2.4874520\\\\\n",
       "\t 0 & -1.327458 & -0.1156157 & 0.04469318 &  1.3705807 & 0.4946147\\\\\n",
       "\t ⋮ & ⋮ & ⋮ & ⋮ & ⋮ & ⋮\\\\\n",
       "\t 0 & -0.58472718 &  0.0000000 &  0.9991926 &  0.00000000 &  1.0639968\\\\\n",
       "\t 0 & -1.85797925 & -0.6578005 & -0.3040662 &  1.68881774 & -0.8339434\\\\\n",
       "\t 0 & -0.58472718 & -1.1999854 &  0.1089383 &  0.01807329 & -0.8339434\\\\\n",
       "\t 0 & -0.69083152 &  0.4265691 &  0.5311208 & -0.10126560 &  0.1150267\\\\\n",
       "\t 0 & -0.05420548 & -0.1156157 & -0.1572202 &  0.41586959 & -0.8339434\\\\\n",
       "\\end{tabular}\n"
      ],
      "text/markdown": [
       "\n",
       "A tibble: 920 × 6\n",
       "\n",
       "| Class &lt;dbl&gt; | age &lt;dbl&gt; | trestbps &lt;dbl&gt; | chol &lt;dbl&gt; | thalach &lt;dbl&gt; | oldpeak &lt;dbl&gt; |\n",
       "|---|---|---|---|---|---|\n",
       "| 0 |  1.006838 |  0.6976615 | 0.31085168 |  0.4954288 | 1.3486878 |\n",
       "| 2 |  1.431255 |  1.5109388 | 0.79727927 | -1.1753156 | 0.5895117 |\n",
       "| 1 |  1.431255 | -0.6578005 | 0.27414016 | -0.3399434 | 1.6333789 |\n",
       "| 0 | -1.751875 | -0.1156157 | 0.46687562 |  1.9672751 | 2.4874520 |\n",
       "| 0 | -1.327458 | -0.1156157 | 0.04469318 |  1.3705807 | 0.4946147 |\n",
       "| ⋮ | ⋮ | ⋮ | ⋮ | ⋮ | ⋮ |\n",
       "| 0 | -0.58472718 |  0.0000000 |  0.9991926 |  0.00000000 |  1.0639968 |\n",
       "| 0 | -1.85797925 | -0.6578005 | -0.3040662 |  1.68881774 | -0.8339434 |\n",
       "| 0 | -0.58472718 | -1.1999854 |  0.1089383 |  0.01807329 | -0.8339434 |\n",
       "| 0 | -0.69083152 |  0.4265691 |  0.5311208 | -0.10126560 |  0.1150267 |\n",
       "| 0 | -0.05420548 | -0.1156157 | -0.1572202 |  0.41586959 | -0.8339434 |\n",
       "\n"
      ],
      "text/plain": [
       "    Class age         trestbps   chol       thalach     oldpeak   \n",
       "1   0      1.006838    0.6976615 0.31085168  0.4954288  1.3486878 \n",
       "2   2      1.431255    1.5109388 0.79727927 -1.1753156  0.5895117 \n",
       "3   1      1.431255   -0.6578005 0.27414016 -0.3399434  1.6333789 \n",
       "4   0     -1.751875   -0.1156157 0.46687562  1.9672751  2.4874520 \n",
       "5   0     -1.327458   -0.1156157 0.04469318  1.3705807  0.4946147 \n",
       "⋮   ⋮     ⋮           ⋮          ⋮          ⋮           ⋮         \n",
       "916 0     -0.58472718  0.0000000  0.9991926  0.00000000  1.0639968\n",
       "917 0     -1.85797925 -0.6578005 -0.3040662  1.68881774 -0.8339434\n",
       "918 0     -0.58472718 -1.1999854  0.1089383  0.01807329 -0.8339434\n",
       "919 0     -0.69083152  0.4265691  0.5311208 -0.10126560  0.1150267\n",
       "920 0     -0.05420548 -0.1156157 -0.1572202  0.41586959 -0.8339434"
      ]
     },
     "metadata": {},
     "output_type": "display_data"
    }
   ],
   "source": [
    "imputed_and_scaled_global_dataset <- imputed_and_scaled_global_dataset |>\n",
    "      select(Class, age, trestbps, chol, thalach, oldpeak)\n",
    "imputed_and_scaled_global_dataset"
   ]
  },
  {
   "cell_type": "markdown",
   "id": "61551da7-c75e-4fdc-9e49-f18691598414",
   "metadata": {},
   "source": [
    "## 2) visualizing the data with a plot relevant to the analysis we plan to do using only training data: ##"
   ]
  },
  {
   "cell_type": "code",
   "execution_count": 11,
   "id": "25775d6e-7c19-481e-9cce-aa730caf33bd",
   "metadata": {},
   "outputs": [
    {
     "data": {
      "text/html": [
       "<table class=\"dataframe\">\n",
       "<caption>A tibble: 920 × 6</caption>\n",
       "<thead>\n",
       "\t<tr><th scope=col>Class</th><th scope=col>Age</th><th scope=col>Resting_Blood_Pressure</th><th scope=col>Cholesterol</th><th scope=col>Max_heart_rate</th><th scope=col>ST_depression_induced_by_exercise_relative_to_rest</th></tr>\n",
       "\t<tr><th scope=col>&lt;fct&gt;</th><th scope=col>&lt;dbl&gt;</th><th scope=col>&lt;dbl&gt;</th><th scope=col>&lt;dbl&gt;</th><th scope=col>&lt;dbl&gt;</th><th scope=col>&lt;dbl&gt;</th></tr>\n",
       "</thead>\n",
       "<tbody>\n",
       "\t<tr><td>healthy</td><td> 1.006838</td><td> 0.6976615</td><td>0.31085168</td><td> 0.4954288</td><td>1.3486878</td></tr>\n",
       "\t<tr><td>sick   </td><td> 1.431255</td><td> 1.5109388</td><td>0.79727927</td><td>-1.1753156</td><td>0.5895117</td></tr>\n",
       "\t<tr><td>sick   </td><td> 1.431255</td><td>-0.6578005</td><td>0.27414016</td><td>-0.3399434</td><td>1.6333789</td></tr>\n",
       "\t<tr><td>healthy</td><td>-1.751875</td><td>-0.1156157</td><td>0.46687562</td><td> 1.9672751</td><td>2.4874520</td></tr>\n",
       "\t<tr><td>healthy</td><td>-1.327458</td><td>-0.1156157</td><td>0.04469318</td><td> 1.3705807</td><td>0.4946147</td></tr>\n",
       "\t<tr><td>⋮</td><td>⋮</td><td>⋮</td><td>⋮</td><td>⋮</td><td>⋮</td></tr>\n",
       "\t<tr><td>healthy</td><td>-0.58472718</td><td> 0.0000000</td><td> 0.9991926</td><td> 0.00000000</td><td> 1.0639968</td></tr>\n",
       "\t<tr><td>healthy</td><td>-1.85797925</td><td>-0.6578005</td><td>-0.3040662</td><td> 1.68881774</td><td>-0.8339434</td></tr>\n",
       "\t<tr><td>healthy</td><td>-0.58472718</td><td>-1.1999854</td><td> 0.1089383</td><td> 0.01807329</td><td>-0.8339434</td></tr>\n",
       "\t<tr><td>healthy</td><td>-0.69083152</td><td> 0.4265691</td><td> 0.5311208</td><td>-0.10126560</td><td> 0.1150267</td></tr>\n",
       "\t<tr><td>healthy</td><td>-0.05420548</td><td>-0.1156157</td><td>-0.1572202</td><td> 0.41586959</td><td>-0.8339434</td></tr>\n",
       "</tbody>\n",
       "</table>\n"
      ],
      "text/latex": [
       "A tibble: 920 × 6\n",
       "\\begin{tabular}{llllll}\n",
       " Class & Age & Resting\\_Blood\\_Pressure & Cholesterol & Max\\_heart\\_rate & ST\\_depression\\_induced\\_by\\_exercise\\_relative\\_to\\_rest\\\\\n",
       " <fct> & <dbl> & <dbl> & <dbl> & <dbl> & <dbl>\\\\\n",
       "\\hline\n",
       "\t healthy &  1.006838 &  0.6976615 & 0.31085168 &  0.4954288 & 1.3486878\\\\\n",
       "\t sick    &  1.431255 &  1.5109388 & 0.79727927 & -1.1753156 & 0.5895117\\\\\n",
       "\t sick    &  1.431255 & -0.6578005 & 0.27414016 & -0.3399434 & 1.6333789\\\\\n",
       "\t healthy & -1.751875 & -0.1156157 & 0.46687562 &  1.9672751 & 2.4874520\\\\\n",
       "\t healthy & -1.327458 & -0.1156157 & 0.04469318 &  1.3705807 & 0.4946147\\\\\n",
       "\t ⋮ & ⋮ & ⋮ & ⋮ & ⋮ & ⋮\\\\\n",
       "\t healthy & -0.58472718 &  0.0000000 &  0.9991926 &  0.00000000 &  1.0639968\\\\\n",
       "\t healthy & -1.85797925 & -0.6578005 & -0.3040662 &  1.68881774 & -0.8339434\\\\\n",
       "\t healthy & -0.58472718 & -1.1999854 &  0.1089383 &  0.01807329 & -0.8339434\\\\\n",
       "\t healthy & -0.69083152 &  0.4265691 &  0.5311208 & -0.10126560 &  0.1150267\\\\\n",
       "\t healthy & -0.05420548 & -0.1156157 & -0.1572202 &  0.41586959 & -0.8339434\\\\\n",
       "\\end{tabular}\n"
      ],
      "text/markdown": [
       "\n",
       "A tibble: 920 × 6\n",
       "\n",
       "| Class &lt;fct&gt; | Age &lt;dbl&gt; | Resting_Blood_Pressure &lt;dbl&gt; | Cholesterol &lt;dbl&gt; | Max_heart_rate &lt;dbl&gt; | ST_depression_induced_by_exercise_relative_to_rest &lt;dbl&gt; |\n",
       "|---|---|---|---|---|---|\n",
       "| healthy |  1.006838 |  0.6976615 | 0.31085168 |  0.4954288 | 1.3486878 |\n",
       "| sick    |  1.431255 |  1.5109388 | 0.79727927 | -1.1753156 | 0.5895117 |\n",
       "| sick    |  1.431255 | -0.6578005 | 0.27414016 | -0.3399434 | 1.6333789 |\n",
       "| healthy | -1.751875 | -0.1156157 | 0.46687562 |  1.9672751 | 2.4874520 |\n",
       "| healthy | -1.327458 | -0.1156157 | 0.04469318 |  1.3705807 | 0.4946147 |\n",
       "| ⋮ | ⋮ | ⋮ | ⋮ | ⋮ | ⋮ |\n",
       "| healthy | -0.58472718 |  0.0000000 |  0.9991926 |  0.00000000 |  1.0639968 |\n",
       "| healthy | -1.85797925 | -0.6578005 | -0.3040662 |  1.68881774 | -0.8339434 |\n",
       "| healthy | -0.58472718 | -1.1999854 |  0.1089383 |  0.01807329 | -0.8339434 |\n",
       "| healthy | -0.69083152 |  0.4265691 |  0.5311208 | -0.10126560 |  0.1150267 |\n",
       "| healthy | -0.05420548 | -0.1156157 | -0.1572202 |  0.41586959 | -0.8339434 |\n",
       "\n"
      ],
      "text/plain": [
       "    Class   Age         Resting_Blood_Pressure Cholesterol Max_heart_rate\n",
       "1   healthy  1.006838    0.6976615             0.31085168   0.4954288    \n",
       "2   sick     1.431255    1.5109388             0.79727927  -1.1753156    \n",
       "3   sick     1.431255   -0.6578005             0.27414016  -0.3399434    \n",
       "4   healthy -1.751875   -0.1156157             0.46687562   1.9672751    \n",
       "5   healthy -1.327458   -0.1156157             0.04469318   1.3705807    \n",
       "⋮   ⋮       ⋮           ⋮                      ⋮           ⋮             \n",
       "916 healthy -0.58472718  0.0000000              0.9991926   0.00000000   \n",
       "917 healthy -1.85797925 -0.6578005             -0.3040662   1.68881774   \n",
       "918 healthy -0.58472718 -1.1999854              0.1089383   0.01807329   \n",
       "919 healthy -0.69083152  0.4265691              0.5311208  -0.10126560   \n",
       "920 healthy -0.05420548 -0.1156157             -0.1572202   0.41586959   \n",
       "    ST_depression_induced_by_exercise_relative_to_rest\n",
       "1   1.3486878                                         \n",
       "2   0.5895117                                         \n",
       "3   1.6333789                                         \n",
       "4   2.4874520                                         \n",
       "5   0.4946147                                         \n",
       "⋮   ⋮                                                 \n",
       "916  1.0639968                                        \n",
       "917 -0.8339434                                        \n",
       "918 -0.8339434                                        \n",
       "919  0.1150267                                        \n",
       "920 -0.8339434                                        "
      ]
     },
     "metadata": {},
     "output_type": "display_data"
    }
   ],
   "source": [
    "imputed_and_scaled_global_dataset <- imputed_and_scaled_global_dataset |>\n",
    "\n",
    "      mutate(Class = as.factor(Class)) |>\n",
    "      mutate(Class = fct_recode(Class, \"healthy\" = \"0\", \"sick\" = \"1\", \"sick\" = \"2\", \"sick\" = \"3\", \"sick\" = \"4\"))\n",
    "\n",
    "imputed_and_scaled_global_dataset <- imputed_and_scaled_global_dataset |>\n",
    "      rename(Age = age, \"Resting_Blood_Pressure\" = trestbps, Cholesterol = chol, \"Max_heart_rate\" = thalach, \n",
    "      \"ST_depression_induced_by_exercise_relative_to_rest\" = oldpeak)\n",
    "\n",
    "imputed_and_scaled_global_dataset"
   ]
  },
  {
   "cell_type": "code",
   "execution_count": null,
   "id": "57a9dc29-5d86-4d72-8836-2cc6188c0a1e",
   "metadata": {
    "tags": []
   },
   "outputs": [],
   "source": [
    "options(repr.plot.width = 18, repr.plot.height = 18) \n",
    "\n",
    "# coloured and grouped-by-shape scatterplot\n",
    "\n",
    "# Max_heart_rate & ST_depression_induced_by_exercise_relative_to_rest\n",
    "mhr_oldpeak <- imputed_and_scaled_global_dataset |> \n",
    "    ggplot(aes(x = Max_heart_rate, y = ST_depression_induced_by_exercise_relative_to_rest)) + \n",
    "    geom_point(aes(colour = Class, shape = Class), size = 3) + \n",
    "    labs(title = \"Max Heart Rate versus ST Depression induced by exercise relative to rest\", x = \"Max Heart Rate\", y = \"ST Depression induced by exercise relative to rest\", colour = \"Heart Disease Diagnosis\", shape = \"Heart Disease Diagnosis\") + \n",
    "    theme(text = element_text(size = 20), plot.title = element_text(face = \"bold\"))\n",
    "mhr_oldpeak\n",
    "\n",
    "# Justification for why we decided to use scatterplots (with all possible pairings of numerical variables) to pick our predictor variables:\n",
    "\n",
    "# 1) We wanted to look for predictor variables from the set of numerical variables in our dataset, because we plan on using the KNN classification algorithm, \n",
    "# which is known to yield more accurate predictions when the predictor variables are numerical instead of categorical\n",
    "\n",
    "# 2) We created scatterplots (where for each distinct value of a class, the observations with that class value have a unique colour and shape) \n",
    "# for every possible pairing of numerical variables\n",
    "# because we thought that \n",
    "# by making scatterplots for each possible pairing of numerical variables \n",
    "# and comparing each of these plots to see which one shows the most apparent separation of the observations belonging to each of the distinct classes,\n",
    "# we'd be able to determine the best pair of predictor variables for KNN.\n",
    "# These variables would be the ones plotted on the x-axis and y-axis of the scatterplot with the clearest separation of the distinct classes.\n",
    "\n",
    "# In our case, since we felt that the plot of \"Max Heart Rate\" against \"ST depression induced by exercise relative to rest\" was the one that did the best job at showing the separation \n",
    "# of observations classified as 'healthy' and observations classified as 'sick', we came to the conclusion that the two aformentioned variables would be the most suitable predictor variables for KNN."
   ]
  },
  {
   "cell_type": "markdown",
   "id": "14ced0ef-e1e8-424d-b795-f88bdaf23a9b",
   "metadata": {},
   "source": [
    "Before we begin the classification process, we will make a copy of global_dataset_missing and name it 'heart_data'.\n",
    "This is because we want to keep our code as concise as possible.\n",
    "We will then clean heart_data so that it will contain the same number of observations and the same columns as imputed_and_scaled_global_dataset."
   ]
  },
  {
   "cell_type": "code",
   "execution_count": 12,
   "id": "4fb36f08-8c0b-4c4e-8d8e-fdd41ed1a9f3",
   "metadata": {
    "tags": []
   },
   "outputs": [],
   "source": [
    "heart_data <- global_dataset_missing\n",
    "\n",
    "heart_data <- heart_data |>\n",
    "      select(Class, age, trestbps, chol, thalach, oldpeak)"
   ]
  },
  {
   "cell_type": "code",
   "execution_count": 13,
   "id": "9a30a545-e862-4357-b5f4-14380cd2dba8",
   "metadata": {
    "tags": []
   },
   "outputs": [
    {
     "data": {
      "text/html": [
       "<table class=\"dataframe\">\n",
       "<caption>A tibble: 920 × 6</caption>\n",
       "<thead>\n",
       "\t<tr><th scope=col>Class</th><th scope=col>Age</th><th scope=col>Resting_Blood_Pressure</th><th scope=col>Cholesterol</th><th scope=col>Max_heart_rate</th><th scope=col>ST_depression_induced_by_exercise_relative_to_rest</th></tr>\n",
       "\t<tr><th scope=col>&lt;fct&gt;</th><th scope=col>&lt;dbl&gt;</th><th scope=col>&lt;dbl&gt;</th><th scope=col>&lt;dbl&gt;</th><th scope=col>&lt;dbl&gt;</th><th scope=col>&lt;dbl&gt;</th></tr>\n",
       "</thead>\n",
       "<tbody>\n",
       "\t<tr><td>healthy</td><td>63</td><td>145</td><td>233</td><td>150</td><td>2.3</td></tr>\n",
       "\t<tr><td>sick   </td><td>67</td><td>160</td><td>286</td><td>108</td><td>1.5</td></tr>\n",
       "\t<tr><td>sick   </td><td>67</td><td>120</td><td>229</td><td>129</td><td>2.6</td></tr>\n",
       "\t<tr><td>healthy</td><td>37</td><td>130</td><td>250</td><td>187</td><td>3.5</td></tr>\n",
       "\t<tr><td>healthy</td><td>41</td><td>130</td><td>204</td><td>172</td><td>1.4</td></tr>\n",
       "\t<tr><td>⋮</td><td>⋮</td><td>⋮</td><td>⋮</td><td>⋮</td><td>⋮</td></tr>\n",
       "\t<tr><td>healthy</td><td>48</td><td> NA</td><td>308</td><td> NA</td><td>2</td></tr>\n",
       "\t<tr><td>healthy</td><td>36</td><td>120</td><td>166</td><td>180</td><td>0</td></tr>\n",
       "\t<tr><td>healthy</td><td>48</td><td>110</td><td>211</td><td>138</td><td>0</td></tr>\n",
       "\t<tr><td>healthy</td><td>47</td><td>140</td><td>257</td><td>135</td><td>1</td></tr>\n",
       "\t<tr><td>healthy</td><td>53</td><td>130</td><td>182</td><td>148</td><td>0</td></tr>\n",
       "</tbody>\n",
       "</table>\n"
      ],
      "text/latex": [
       "A tibble: 920 × 6\n",
       "\\begin{tabular}{llllll}\n",
       " Class & Age & Resting\\_Blood\\_Pressure & Cholesterol & Max\\_heart\\_rate & ST\\_depression\\_induced\\_by\\_exercise\\_relative\\_to\\_rest\\\\\n",
       " <fct> & <dbl> & <dbl> & <dbl> & <dbl> & <dbl>\\\\\n",
       "\\hline\n",
       "\t healthy & 63 & 145 & 233 & 150 & 2.3\\\\\n",
       "\t sick    & 67 & 160 & 286 & 108 & 1.5\\\\\n",
       "\t sick    & 67 & 120 & 229 & 129 & 2.6\\\\\n",
       "\t healthy & 37 & 130 & 250 & 187 & 3.5\\\\\n",
       "\t healthy & 41 & 130 & 204 & 172 & 1.4\\\\\n",
       "\t ⋮ & ⋮ & ⋮ & ⋮ & ⋮ & ⋮\\\\\n",
       "\t healthy & 48 &  NA & 308 &  NA & 2\\\\\n",
       "\t healthy & 36 & 120 & 166 & 180 & 0\\\\\n",
       "\t healthy & 48 & 110 & 211 & 138 & 0\\\\\n",
       "\t healthy & 47 & 140 & 257 & 135 & 1\\\\\n",
       "\t healthy & 53 & 130 & 182 & 148 & 0\\\\\n",
       "\\end{tabular}\n"
      ],
      "text/markdown": [
       "\n",
       "A tibble: 920 × 6\n",
       "\n",
       "| Class &lt;fct&gt; | Age &lt;dbl&gt; | Resting_Blood_Pressure &lt;dbl&gt; | Cholesterol &lt;dbl&gt; | Max_heart_rate &lt;dbl&gt; | ST_depression_induced_by_exercise_relative_to_rest &lt;dbl&gt; |\n",
       "|---|---|---|---|---|---|\n",
       "| healthy | 63 | 145 | 233 | 150 | 2.3 |\n",
       "| sick    | 67 | 160 | 286 | 108 | 1.5 |\n",
       "| sick    | 67 | 120 | 229 | 129 | 2.6 |\n",
       "| healthy | 37 | 130 | 250 | 187 | 3.5 |\n",
       "| healthy | 41 | 130 | 204 | 172 | 1.4 |\n",
       "| ⋮ | ⋮ | ⋮ | ⋮ | ⋮ | ⋮ |\n",
       "| healthy | 48 |  NA | 308 |  NA | 2 |\n",
       "| healthy | 36 | 120 | 166 | 180 | 0 |\n",
       "| healthy | 48 | 110 | 211 | 138 | 0 |\n",
       "| healthy | 47 | 140 | 257 | 135 | 1 |\n",
       "| healthy | 53 | 130 | 182 | 148 | 0 |\n",
       "\n"
      ],
      "text/plain": [
       "    Class   Age Resting_Blood_Pressure Cholesterol Max_heart_rate\n",
       "1   healthy 63  145                    233         150           \n",
       "2   sick    67  160                    286         108           \n",
       "3   sick    67  120                    229         129           \n",
       "4   healthy 37  130                    250         187           \n",
       "5   healthy 41  130                    204         172           \n",
       "⋮   ⋮       ⋮   ⋮                      ⋮           ⋮             \n",
       "916 healthy 48   NA                    308          NA           \n",
       "917 healthy 36  120                    166         180           \n",
       "918 healthy 48  110                    211         138           \n",
       "919 healthy 47  140                    257         135           \n",
       "920 healthy 53  130                    182         148           \n",
       "    ST_depression_induced_by_exercise_relative_to_rest\n",
       "1   2.3                                               \n",
       "2   1.5                                               \n",
       "3   2.6                                               \n",
       "4   3.5                                               \n",
       "5   1.4                                               \n",
       "⋮   ⋮                                                 \n",
       "916 2                                                 \n",
       "917 0                                                 \n",
       "918 0                                                 \n",
       "919 1                                                 \n",
       "920 0                                                 "
      ]
     },
     "metadata": {},
     "output_type": "display_data"
    }
   ],
   "source": [
    "heart_data <- heart_data |>\n",
    "\n",
    "      mutate(Class = as.factor(Class)) |>\n",
    "      mutate(Class = fct_recode(Class, \"healthy\" = \"0\", \"sick\" = \"1\", \"sick\" = \"2\", \"sick\" = \"3\", \"sick\" = \"4\"))\n",
    "\n",
    "heart_data <- heart_data |>\n",
    "      rename(Age = age, \"Resting_Blood_Pressure\" = trestbps, Cholesterol = chol, \"Max_heart_rate\" = thalach, \n",
    "      \"ST_depression_induced_by_exercise_relative_to_rest\" = oldpeak)\n",
    "\n",
    "heart_data"
   ]
  },
  {
   "cell_type": "markdown",
   "id": "2c3cfdeb-2c7b-44a8-b1f3-729d97c1ecdb",
   "metadata": {},
   "source": [
    "Now we begin the classification process.\n",
    "\n",
    "We will be partitioning heart_data into a training (75%) and testing (25%) set.\n",
    "After creating the test set,\n",
    "we will put the test set away in a lock box and not touch it again\n",
    "until we have found the best k-nn classifier we can make using the training set.\n",
    "\n",
    "We will use the variable `Class` as our class label.\n",
    "\n",
    "To create the training and test set, we first use the initial_split function to split heart_data.\n",
    "We specify that we want to use 75% of the data.\n",
    "For the strata argument, we pass in the variable we want to classify,\n",
    "which, in this case, is `Class`.\n",
    "The object we create will be named `heart_split`.\n",
    "\n",
    "Next, we pass the heart_split object to the training and testing functions\n",
    "and name the respective objects heart_train and heart_test:"
   ]
  },
  {
   "cell_type": "code",
   "execution_count": 14,
   "id": "3c8915b8-0166-4924-9c2e-36bdf648a2ca",
   "metadata": {
    "tags": []
   },
   "outputs": [],
   "source": [
    "heart_split <- initial_split(heart_data, prop = 0.75, strata = Class)\n",
    "heart_train <- training(heart_split)\n",
    "heart_test <- testing(heart_split)"
   ]
  },
  {
   "cell_type": "code",
   "execution_count": 15,
   "id": "cae02c90-84b0-45df-96ee-dd4a3abc0d65",
   "metadata": {
    "tags": []
   },
   "outputs": [
    {
     "data": {
      "text/plain": [
       "<Training/Testing/Total>\n",
       "<689/231/920>"
      ]
     },
     "metadata": {},
     "output_type": "display_data"
    },
    {
     "data": {
      "text/html": [
       "<table class=\"dataframe\">\n",
       "<caption>A tibble: 689 × 6</caption>\n",
       "<thead>\n",
       "\t<tr><th scope=col>Class</th><th scope=col>Age</th><th scope=col>Resting_Blood_Pressure</th><th scope=col>Cholesterol</th><th scope=col>Max_heart_rate</th><th scope=col>ST_depression_induced_by_exercise_relative_to_rest</th></tr>\n",
       "\t<tr><th scope=col>&lt;fct&gt;</th><th scope=col>&lt;dbl&gt;</th><th scope=col>&lt;dbl&gt;</th><th scope=col>&lt;dbl&gt;</th><th scope=col>&lt;dbl&gt;</th><th scope=col>&lt;dbl&gt;</th></tr>\n",
       "</thead>\n",
       "<tbody>\n",
       "\t<tr><td>healthy</td><td>37</td><td>130</td><td>250</td><td>187</td><td>3.5</td></tr>\n",
       "\t<tr><td>healthy</td><td>56</td><td>120</td><td>236</td><td>178</td><td>0.8</td></tr>\n",
       "\t<tr><td>healthy</td><td>57</td><td>140</td><td>192</td><td>148</td><td>0.4</td></tr>\n",
       "\t<tr><td>healthy</td><td>57</td><td>150</td><td>168</td><td>174</td><td>1.6</td></tr>\n",
       "\t<tr><td>healthy</td><td>48</td><td>130</td><td>275</td><td>139</td><td>0.2</td></tr>\n",
       "\t<tr><td>⋮</td><td>⋮</td><td>⋮</td><td>⋮</td><td>⋮</td><td>⋮</td></tr>\n",
       "\t<tr><td>sick</td><td>47</td><td>140</td><td>193</td><td>145</td><td>1.0</td></tr>\n",
       "\t<tr><td>sick</td><td>54</td><td>130</td><td>242</td><td> 91</td><td>1.0</td></tr>\n",
       "\t<tr><td>sick</td><td>55</td><td>140</td><td>201</td><td>130</td><td>3.0</td></tr>\n",
       "\t<tr><td>sick</td><td>52</td><td>170</td><td> NA</td><td>126</td><td>1.5</td></tr>\n",
       "\t<tr><td>sick</td><td>49</td><td>150</td><td>222</td><td>122</td><td>2.0</td></tr>\n",
       "</tbody>\n",
       "</table>\n"
      ],
      "text/latex": [
       "A tibble: 689 × 6\n",
       "\\begin{tabular}{llllll}\n",
       " Class & Age & Resting\\_Blood\\_Pressure & Cholesterol & Max\\_heart\\_rate & ST\\_depression\\_induced\\_by\\_exercise\\_relative\\_to\\_rest\\\\\n",
       " <fct> & <dbl> & <dbl> & <dbl> & <dbl> & <dbl>\\\\\n",
       "\\hline\n",
       "\t healthy & 37 & 130 & 250 & 187 & 3.5\\\\\n",
       "\t healthy & 56 & 120 & 236 & 178 & 0.8\\\\\n",
       "\t healthy & 57 & 140 & 192 & 148 & 0.4\\\\\n",
       "\t healthy & 57 & 150 & 168 & 174 & 1.6\\\\\n",
       "\t healthy & 48 & 130 & 275 & 139 & 0.2\\\\\n",
       "\t ⋮ & ⋮ & ⋮ & ⋮ & ⋮ & ⋮\\\\\n",
       "\t sick & 47 & 140 & 193 & 145 & 1.0\\\\\n",
       "\t sick & 54 & 130 & 242 &  91 & 1.0\\\\\n",
       "\t sick & 55 & 140 & 201 & 130 & 3.0\\\\\n",
       "\t sick & 52 & 170 &  NA & 126 & 1.5\\\\\n",
       "\t sick & 49 & 150 & 222 & 122 & 2.0\\\\\n",
       "\\end{tabular}\n"
      ],
      "text/markdown": [
       "\n",
       "A tibble: 689 × 6\n",
       "\n",
       "| Class &lt;fct&gt; | Age &lt;dbl&gt; | Resting_Blood_Pressure &lt;dbl&gt; | Cholesterol &lt;dbl&gt; | Max_heart_rate &lt;dbl&gt; | ST_depression_induced_by_exercise_relative_to_rest &lt;dbl&gt; |\n",
       "|---|---|---|---|---|---|\n",
       "| healthy | 37 | 130 | 250 | 187 | 3.5 |\n",
       "| healthy | 56 | 120 | 236 | 178 | 0.8 |\n",
       "| healthy | 57 | 140 | 192 | 148 | 0.4 |\n",
       "| healthy | 57 | 150 | 168 | 174 | 1.6 |\n",
       "| healthy | 48 | 130 | 275 | 139 | 0.2 |\n",
       "| ⋮ | ⋮ | ⋮ | ⋮ | ⋮ | ⋮ |\n",
       "| sick | 47 | 140 | 193 | 145 | 1.0 |\n",
       "| sick | 54 | 130 | 242 |  91 | 1.0 |\n",
       "| sick | 55 | 140 | 201 | 130 | 3.0 |\n",
       "| sick | 52 | 170 |  NA | 126 | 1.5 |\n",
       "| sick | 49 | 150 | 222 | 122 | 2.0 |\n",
       "\n"
      ],
      "text/plain": [
       "    Class   Age Resting_Blood_Pressure Cholesterol Max_heart_rate\n",
       "1   healthy 37  130                    250         187           \n",
       "2   healthy 56  120                    236         178           \n",
       "3   healthy 57  140                    192         148           \n",
       "4   healthy 57  150                    168         174           \n",
       "5   healthy 48  130                    275         139           \n",
       "⋮   ⋮       ⋮   ⋮                      ⋮           ⋮             \n",
       "685 sick    47  140                    193         145           \n",
       "686 sick    54  130                    242          91           \n",
       "687 sick    55  140                    201         130           \n",
       "688 sick    52  170                     NA         126           \n",
       "689 sick    49  150                    222         122           \n",
       "    ST_depression_induced_by_exercise_relative_to_rest\n",
       "1   3.5                                               \n",
       "2   0.8                                               \n",
       "3   0.4                                               \n",
       "4   1.6                                               \n",
       "5   0.2                                               \n",
       "⋮   ⋮                                                 \n",
       "685 1.0                                               \n",
       "686 1.0                                               \n",
       "687 3.0                                               \n",
       "688 1.5                                               \n",
       "689 2.0                                               "
      ]
     },
     "metadata": {},
     "output_type": "display_data"
    },
    {
     "data": {
      "text/html": [
       "<table class=\"dataframe\">\n",
       "<caption>A tibble: 231 × 6</caption>\n",
       "<thead>\n",
       "\t<tr><th scope=col>Class</th><th scope=col>Age</th><th scope=col>Resting_Blood_Pressure</th><th scope=col>Cholesterol</th><th scope=col>Max_heart_rate</th><th scope=col>ST_depression_induced_by_exercise_relative_to_rest</th></tr>\n",
       "\t<tr><th scope=col>&lt;fct&gt;</th><th scope=col>&lt;dbl&gt;</th><th scope=col>&lt;dbl&gt;</th><th scope=col>&lt;dbl&gt;</th><th scope=col>&lt;dbl&gt;</th><th scope=col>&lt;dbl&gt;</th></tr>\n",
       "</thead>\n",
       "<tbody>\n",
       "\t<tr><td>healthy</td><td>63</td><td>145</td><td>233</td><td>150</td><td>2.3</td></tr>\n",
       "\t<tr><td>healthy</td><td>41</td><td>130</td><td>204</td><td>172</td><td>1.4</td></tr>\n",
       "\t<tr><td>healthy</td><td>57</td><td>120</td><td>354</td><td>163</td><td>0.6</td></tr>\n",
       "\t<tr><td>sick   </td><td>53</td><td>140</td><td>203</td><td>155</td><td>3.1</td></tr>\n",
       "\t<tr><td>healthy</td><td>56</td><td>140</td><td>294</td><td>153</td><td>1.3</td></tr>\n",
       "\t<tr><td>⋮</td><td>⋮</td><td>⋮</td><td>⋮</td><td>⋮</td><td>⋮</td></tr>\n",
       "\t<tr><td>sick   </td><td>51</td><td>135</td><td>160</td><td>150</td><td>2</td></tr>\n",
       "\t<tr><td>healthy</td><td>54</td><td>130</td><td>253</td><td>155</td><td>0</td></tr>\n",
       "\t<tr><td>healthy</td><td>51</td><td>110</td><td>190</td><td>120</td><td>0</td></tr>\n",
       "\t<tr><td>healthy</td><td>36</td><td>120</td><td>166</td><td>180</td><td>0</td></tr>\n",
       "\t<tr><td>healthy</td><td>53</td><td>130</td><td>182</td><td>148</td><td>0</td></tr>\n",
       "</tbody>\n",
       "</table>\n"
      ],
      "text/latex": [
       "A tibble: 231 × 6\n",
       "\\begin{tabular}{llllll}\n",
       " Class & Age & Resting\\_Blood\\_Pressure & Cholesterol & Max\\_heart\\_rate & ST\\_depression\\_induced\\_by\\_exercise\\_relative\\_to\\_rest\\\\\n",
       " <fct> & <dbl> & <dbl> & <dbl> & <dbl> & <dbl>\\\\\n",
       "\\hline\n",
       "\t healthy & 63 & 145 & 233 & 150 & 2.3\\\\\n",
       "\t healthy & 41 & 130 & 204 & 172 & 1.4\\\\\n",
       "\t healthy & 57 & 120 & 354 & 163 & 0.6\\\\\n",
       "\t sick    & 53 & 140 & 203 & 155 & 3.1\\\\\n",
       "\t healthy & 56 & 140 & 294 & 153 & 1.3\\\\\n",
       "\t ⋮ & ⋮ & ⋮ & ⋮ & ⋮ & ⋮\\\\\n",
       "\t sick    & 51 & 135 & 160 & 150 & 2\\\\\n",
       "\t healthy & 54 & 130 & 253 & 155 & 0\\\\\n",
       "\t healthy & 51 & 110 & 190 & 120 & 0\\\\\n",
       "\t healthy & 36 & 120 & 166 & 180 & 0\\\\\n",
       "\t healthy & 53 & 130 & 182 & 148 & 0\\\\\n",
       "\\end{tabular}\n"
      ],
      "text/markdown": [
       "\n",
       "A tibble: 231 × 6\n",
       "\n",
       "| Class &lt;fct&gt; | Age &lt;dbl&gt; | Resting_Blood_Pressure &lt;dbl&gt; | Cholesterol &lt;dbl&gt; | Max_heart_rate &lt;dbl&gt; | ST_depression_induced_by_exercise_relative_to_rest &lt;dbl&gt; |\n",
       "|---|---|---|---|---|---|\n",
       "| healthy | 63 | 145 | 233 | 150 | 2.3 |\n",
       "| healthy | 41 | 130 | 204 | 172 | 1.4 |\n",
       "| healthy | 57 | 120 | 354 | 163 | 0.6 |\n",
       "| sick    | 53 | 140 | 203 | 155 | 3.1 |\n",
       "| healthy | 56 | 140 | 294 | 153 | 1.3 |\n",
       "| ⋮ | ⋮ | ⋮ | ⋮ | ⋮ | ⋮ |\n",
       "| sick    | 51 | 135 | 160 | 150 | 2 |\n",
       "| healthy | 54 | 130 | 253 | 155 | 0 |\n",
       "| healthy | 51 | 110 | 190 | 120 | 0 |\n",
       "| healthy | 36 | 120 | 166 | 180 | 0 |\n",
       "| healthy | 53 | 130 | 182 | 148 | 0 |\n",
       "\n"
      ],
      "text/plain": [
       "    Class   Age Resting_Blood_Pressure Cholesterol Max_heart_rate\n",
       "1   healthy 63  145                    233         150           \n",
       "2   healthy 41  130                    204         172           \n",
       "3   healthy 57  120                    354         163           \n",
       "4   sick    53  140                    203         155           \n",
       "5   healthy 56  140                    294         153           \n",
       "⋮   ⋮       ⋮   ⋮                      ⋮           ⋮             \n",
       "227 sick    51  135                    160         150           \n",
       "228 healthy 54  130                    253         155           \n",
       "229 healthy 51  110                    190         120           \n",
       "230 healthy 36  120                    166         180           \n",
       "231 healthy 53  130                    182         148           \n",
       "    ST_depression_induced_by_exercise_relative_to_rest\n",
       "1   2.3                                               \n",
       "2   1.4                                               \n",
       "3   0.6                                               \n",
       "4   3.1                                               \n",
       "5   1.3                                               \n",
       "⋮   ⋮                                                 \n",
       "227 2                                                 \n",
       "228 0                                                 \n",
       "229 0                                                 \n",
       "230 0                                                 \n",
       "231 0                                                 "
      ]
     },
     "metadata": {},
     "output_type": "display_data"
    }
   ],
   "source": [
    "heart_split\n",
    "heart_train\n",
    "heart_test"
   ]
  },
  {
   "cell_type": "markdown",
   "id": "b3e94e7f-db3f-4d23-8002-03f79db63491",
   "metadata": {},
   "source": [
    "Creating a tidymodels recipe \n",
    "to standardize, and impute the missing entries of, our predictors, which are\n",
    "`Max_heart_rate` and `ST_depression_induced_by_exercise_relative_to_rest`:"
   ]
  },
  {
   "cell_type": "code",
   "execution_count": 16,
   "id": "64a49527-872c-4116-875b-78941ab2d6b1",
   "metadata": {
    "tags": []
   },
   "outputs": [
    {
     "data": {
      "text/plain": [
       "Recipe\n",
       "\n",
       "Inputs:\n",
       "\n",
       "      role #variables\n",
       "   outcome          1\n",
       " predictor          2\n",
       "\n",
       "Operations:\n",
       "\n",
       "Mean imputation for all_predictors()\n",
       "Scaling for all_predictors()\n",
       "Centering for all_predictors()"
      ]
     },
     "metadata": {},
     "output_type": "display_data"
    }
   ],
   "source": [
    "heart_recipe <- recipe(Class ~ Max_heart_rate + ST_depression_induced_by_exercise_relative_to_rest , data = heart_train) |>\n",
    "                step_impute_mean(all_predictors()) |>\n",
    "                step_scale(all_predictors()) |>\n",
    "                step_center(all_predictors())\n",
    "heart_recipe"
   ]
  },
  {
   "cell_type": "markdown",
   "id": "a62200ca-0e23-45e1-a42b-1287bbf6c298",
   "metadata": {},
   "source": [
    "Creating a model specification for K-nearest neighbours classification\n",
    "by using the nearest_neighbor() function.\n",
    "Specify that we want to set k = 3 and use the straight-line distance.\n",
    "Furthermore, specify the computational engine to be \"kknn\"\n",
    "for training the model with the set_engine() function.\n",
    "Finally, identify that this is a classification problem with the set_mode() function:"
   ]
  },
  {
   "cell_type": "code",
   "execution_count": 17,
   "id": "b5b6b913-167c-40a2-9692-ae04136c8dd2",
   "metadata": {
    "tags": []
   },
   "outputs": [],
   "source": [
    "knn_spec <- nearest_neighbor(weight_func = \"rectangular\", neighbors = 5) |>\n",
    "       set_engine(\"kknn\") |>\n",
    "       set_mode(\"classification\")"
   ]
  },
  {
   "cell_type": "markdown",
   "id": "b6c99914-8340-44b1-9c04-527e98a3a0a7",
   "metadata": {},
   "source": [
    "Combining heart_recipe with knn_spec in a workflow, and fitting to the heart_train dataset:"
   ]
  },
  {
   "cell_type": "code",
   "execution_count": 18,
   "id": "2995f4d7-4479-4bc6-896b-5775bc90d7cc",
   "metadata": {
    "tags": []
   },
   "outputs": [],
   "source": [
    "heart_fit <- workflow() |>\n",
    "             add_recipe(heart_recipe) |>\n",
    "             add_model(knn_spec) |>\n",
    "             fit(data = heart_train)"
   ]
  },
  {
   "cell_type": "markdown",
   "id": "804b08c5-a503-4d2a-ab53-de54f805ab17",
   "metadata": {},
   "source": [
    "Now that we have created our K-nearest neighbor classifier object,\n",
    "we can predict the class labels for our test set.\n",
    "\n",
    "First, we pass our fitted model and the test dataset to the predict function.\n",
    "Then, we use the bind_cols function to add the column of predictions to the original test data:"
   ]
  },
  {
   "cell_type": "code",
   "execution_count": 19,
   "id": "d8d8bb59-fd24-428b-abc8-2f5c529d0678",
   "metadata": {
    "tags": []
   },
   "outputs": [],
   "source": [
    "heart_test_predictions <- predict(heart_fit , heart_test) |>\n",
    "                          bind_cols(heart_test)"
   ]
  },
  {
   "cell_type": "markdown",
   "id": "9afe5076-ae62-49d2-b2e4-70e6aea04863",
   "metadata": {},
   "source": [
    "Then, we use the metrics function to get statistics about the quality of our model.\n",
    "For the first assignment,\n",
    "we assign the name of the column containing the true class values (of each observation) to `truth`;\n",
    "for the second argument,\n",
    "we assign the name of the column containing the predicted class values (of each observation) to `estimate`:"
   ]
  },
  {
   "cell_type": "code",
   "execution_count": 21,
   "id": "47b2e53a-cd12-4d7d-b6ab-f7a84f669633",
   "metadata": {
    "tags": []
   },
   "outputs": [],
   "source": [
    "heart_mat <- heart_test_predictions |>\n",
    "             conf_mat(truth = Class, estimate = .pred_class)"
   ]
  },
  {
   "cell_type": "markdown",
   "id": "e7c363da-a29a-40c5-ba46-19e79b9833c0",
   "metadata": {},
   "source": [
    "Now we perform a cross-validation in R using the vfold_cv function.\n",
    "\n",
    "To use this function,\n",
    "we have identified the training set - heart_train,\n",
    "we have specified the number of folds - 5,\n",
    "and we have specified the strata argument - Class.\n",
    "\n",
    "This code performs 5-fold cross-validation on heart_train:"
   ]
  },
  {
   "cell_type": "code",
   "execution_count": 22,
   "id": "0fcb43a5-8c8f-4061-b752-9a1ec6881f03",
   "metadata": {
    "tags": []
   },
   "outputs": [],
   "source": [
    "heart_vfold <- vfold_cv(heart_train, v = 5, strata = \"Class\")"
   ]
  },
  {
   "cell_type": "markdown",
   "id": "de5bc994-3f88-48ee-a23a-0db6e5244c33",
   "metadata": {},
   "source": [
    "# Methods #\n",
    "\n",
    "## Explain how you will conduct either your data analysis and which variables/columns you will use. ##\n",
    "\n",
    "K-nearest neighbors algorithm will be used to predict if a patient is healthy or sick based on their ST depression induced by exercise relative to rest and their maximum heart rate. Other variables like cholesterol and resting blood pressure were considered to be used for the classification model, but after plotting each of the variables against each other in scatterplots, it appeared that the ST depression vs maximum heart rate best clustered the data into sick and healthy groups.\n",
    "\n",
    "\n",
    "\n",
    "## Describe at least one way that you will visualize the results ##\n",
    "\n",
    "A scatterplot will be used to plot St depression induced by exercise relative to rest and their maximum heart rate. <br>\n",
    "The points will be colored and shaped based on sick vs. healthy to make the plot easier to read/ interpret.\n",
    "\n",
    "\n"
   ]
  },
  {
   "cell_type": "markdown",
   "id": "c694b016-8207-42df-90e1-c9f246be52c8",
   "metadata": {
    "tags": []
   },
   "source": [
    "# Expected outcomes and significance #\n",
    "\n",
    "## What do you expect to find? ##\n",
    "This study aims to propose an accurate classification model for heart disease prediction using a machine learning classification algorithm, K-nearest neighbors, that can effectively categorize individuals based on their medical data.\n",
    "\n",
    "## What impact could such findings have? ##\n",
    "The findings of this study could have the potential to make an impact in the field of medical health since an accurate heart disease prediction model can assist intervention measures, which may lead to better patient outcomes.\n",
    "\n",
    "## What future questions could this lead to? ##\n",
    "Future questions that this could raise involve the comparability of the K-nearest neighbors classifier model to other models. <br><br> For example, <br> 1. How does the accuracy of prediction with the K-nearest neighbors approach compare with other prediction models based on different machine learning algorithms?\n",
    "<br>2. What are the advantages and limitations of the K-nearest neighbors method in comparison to the other methods in the case of predicting the heart disease?"
   ]
  },
  {
   "cell_type": "code",
   "execution_count": null,
   "id": "efd5c539-bd97-4d08-a7cb-c6073c86abfb",
   "metadata": {},
   "outputs": [],
   "source": []
  },
  {
   "cell_type": "markdown",
   "id": "6048ab5c-8ad9-4ef7-a8f1-5ef88fbfa099",
   "metadata": {},
   "source": [
    "\n",
    "\n",
    "\n",
    "Here's a list of stuff we probably won't need anymore:"
   ]
  },
  {
   "cell_type": "markdown",
   "id": "8592668b-e404-47bf-9c8f-fac5596497f2",
   "metadata": {},
   "source": [
    "Before carrying on with the classification process, I am going to clean the non-imputed dataset in an effort to pick our predictors:"
   ]
  },
  {
   "cell_type": "code",
   "execution_count": null,
   "id": "4293ba9c-0c72-4c2a-8271-721e9b42e6ed",
   "metadata": {
    "tags": []
   },
   "outputs": [],
   "source": [
    "# global_dataset_missing <- global_dataset_missing |>\n",
    "\n",
    "\n",
    "#       mutate(Class = as.factor(Class)) |>\n",
    "#       mutate(Class = fct_recode(Class, \"healthy\" = \"0\", \"sick\" = \"1\", \"sick\" = \"2\", \"sick\" = \"3\", \"sick\" = \"4\")) |>\n",
    "\n",
    "\n",
    "#       mutate(sex = as_factor(sex)) |>\n",
    "#       mutate(sex = fct_recode(sex, \"male\" = \"1\", \"female\" = \"0\")) |>\n",
    "\n",
    "\n",
    "#       mutate(cp = as_factor(cp)) |>\n",
    "#       mutate(cp = fct_recode(cp, \"typical angina\" = \"1\", \"atypical angina\" = \"2\", \"non-anginal pain\" = \"3\", \"asymptomatic\" = \"4\")) |>\n",
    "\n",
    "\n",
    "#       mutate(fbs = as_factor(fbs)) |>\n",
    "#       mutate(fbs = fct_recode(fbs, \"true\" = \"1\", \"false\" = \"0\")) |>      \n",
    "\n",
    "\n",
    "#       mutate(restecg = as_factor(restecg)) |>\n",
    "#       mutate(restecg = fct_recode(restecg, \"normal\" = \"0\", \"ST-T wave abnormality\" = \"1\", \"left ventricular hypertrophy\" = \"2\")) |>\n",
    "\n",
    "\n",
    "#       mutate(exang = as_factor(exang)) |>\n",
    "#       mutate(exang = fct_recode(exang, \"yes\" = \"1\", \"no\" = \"0\")) |>\n",
    "\n",
    "\n",
    "#       mutate(slope = as_factor(slope)) |>\n",
    "#       mutate(slope = fct_recode(slope, \"upsloping\" = \"1\", \"flat\" = \"2\", \"downsloping\" = \"3\")) |>\n",
    "      \n",
    "\n",
    "#       mutate(thal = as_factor(thal)) |>\n",
    "#       mutate(thal = fct_recode(thal, \"normal\" = \"3\", \"fixed\" = \"6\", \"reversable\" = \"7\"))\n",
    "\n",
    "# global_dataset_missing <- global_dataset_missing |>\n",
    "#       rename(Age = age, Sex = sex, \"Chest_Pain_Type\" = cp, \"Resting_Blood_Pressure\" = trestbps, Cholesterol = chol, \"Fasting_blood_sugar_over_120_mg/dl\" = fbs,\n",
    "#       \"Resting_ecg_results\" = restecg, \"Max_heart_rate\" = thalach, \"Exercise_induced_angina\" = exang, \"ST_depression_induced_by_exercise_relative_to_rest\" = oldpeak, \n",
    "#       \"slope_of_the_peak_exercise_ST_segment\" = slope, \"Number_of_major_vessels_colored_by_flourosopy\" = ca, \"Thalassemia\" = thal)\n",
    "\n",
    "# global_dataset_missing"
   ]
  }
 ],
 "metadata": {
  "kernelspec": {
   "display_name": "R",
   "language": "R",
   "name": "ir"
  },
  "language_info": {
   "codemirror_mode": "r",
   "file_extension": ".r",
   "mimetype": "text/x-r-source",
   "name": "R",
   "pygments_lexer": "r",
   "version": "4.2.2"
  },
  "widgets": {
   "application/vnd.jupyter.widget-state+json": {
    "state": {},
    "version_major": 2,
    "version_minor": 0
   }
  }
 },
 "nbformat": 4,
 "nbformat_minor": 5
}
