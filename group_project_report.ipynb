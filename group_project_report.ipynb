{
 "cells": [
  {
   "cell_type": "markdown",
   "id": "fea11d17-fe37-4e33-91fa-88fe592d8fa5",
   "metadata": {
    "tags": []
   },
   "source": [
    "# Deducing Heart Disease in Patients #\n",
    "\n",
    "#### Ali Abbas, Jayson Wu, Ria Perencsik, and Durrotul Salma ####\n",
    "\n",
    "## Introduction ##\n",
    "\n",
    "#### __Background Information__ ####\n",
    "Heart disease describes a range of conditions that affect the heart. Heart disease affects millions globally and is a major health concern. Cardiovascular diseases are the leading cause of death globally, taking an estimated 17.9 million lives each year. More than four out of five cardiovascular deaths are due to heart attacks and strokes, and one third of these deaths occur prematurely in people under 70 years of age. \n",
    "\n",
    "Now that we know the severity of heart disease, the importance of identifying heart disease in patients early cannot be overstated. <br> As such, this project will focus on predicting whether a patient is likely to have heart disease based on: \n",
    " - __ST depression__ (Note: ST corresponds to a segment seen in an ECG test. If the segment appears abnormally low and sits below the baseline, the person is said to have ST depression)\n",
    " - __maximum heart rate__\n",
    "\n",
    "to answer the question: <br>\n",
    "*Can a patient be diagnosed with heart disease based on their ST depression induced by exercise relative to rest and their maximum heart rate using classification?*"
   ]
  },
  {
   "cell_type": "markdown",
   "id": "7a3f90bd-aab7-49bb-90bd-c7d20c88e818",
   "metadata": {
    "tags": []
   },
   "source": [
    "#### __Datasets Used__ ####\n",
    "We utilized the datasets: 'processed.cleveland.data', 'reprocessed.hungarian.data', 'processed.switzerland.data', and 'processed.va.data' from the Heart Disease Database to answer this question.\n",
    "\n",
    "<br> The column names created by the dataset are as follows: \n",
    "\n",
    "1. **Age** - Patient's age\n",
    "2. **Sex** - Patient's sex\n",
    "3. **Chest_Pain_Type** - Patient's chest pain type\n",
    "4. **Resting_Blood_Pressure** - Patient's Resting blood pressure\n",
    "5. **Cholesterol** - Patient's serum cholesterol level (mg/dl)\n",
    "6. **Fasting_blood_sugar_over_120_mg/dl** - True if patient's fasting blood sugar > 120mg/dl\n",
    "7. **Resting_ecg_results** - Patient's resting electrocardiographic results\n",
    "8. **Max_heart_rate** - Patient's maximum heart rate\n",
    "9. **Exercise_induced_angina** - 'yes' if patient's exercise induced angina, 'no' otherwise\n",
    "10. **ST_depression_induced_by_exercise_relative_to_rest** - Patient's ST Depression induced by exercise relative to rest levels\n",
    "11. **slope_of_the_peak_exercise_ST_segment** - The slope of the peak exercise ST segment ('downsloping', 'flat', or 'upsloping')\n",
    "12. **Number_of_major_vessels_colored_by_flourosopy** - Number of major vessels (0-3) colored by flourosopy\n",
    "13. **Thalassemia** - Presence of thalassemia in a patient ('fixed', 'reversible', or 'normal')\n",
    "14. **Class** - Diagnosis of heart disease ('healthy' or 'sick')\n",
    "\n",
    "\n",
    "Of these columns, ST depression and maximum heart rate were chosen as predictors for the classification analysis because the data was best clustered into healthy and sick groups compared to other factors."
   ]
  },
  {
   "cell_type": "markdown",
   "id": "6b7c12d9-739e-4c62-bfa6-0b318c176b9f",
   "metadata": {
    "tags": []
   },
   "source": [
    "### Reading the data set from the web into R ###"
   ]
  },
  {
   "cell_type": "code",
   "execution_count": 1,
   "id": "255247d7-c97e-4724-899f-3751399af96a",
   "metadata": {
    "tags": []
   },
   "outputs": [
    {
     "name": "stderr",
     "output_type": "stream",
     "text": [
      "── \u001b[1mAttaching packages\u001b[22m ─────────────────────────────────────── tidyverse 1.3.2 ──\n",
      "\u001b[32m✔\u001b[39m \u001b[34mggplot2\u001b[39m 3.4.2     \u001b[32m✔\u001b[39m \u001b[34mpurrr  \u001b[39m 1.0.1\n",
      "\u001b[32m✔\u001b[39m \u001b[34mtibble \u001b[39m 3.2.1     \u001b[32m✔\u001b[39m \u001b[34mdplyr  \u001b[39m 1.1.1\n",
      "\u001b[32m✔\u001b[39m \u001b[34mtidyr  \u001b[39m 1.3.0     \u001b[32m✔\u001b[39m \u001b[34mstringr\u001b[39m 1.5.0\n",
      "\u001b[32m✔\u001b[39m \u001b[34mreadr  \u001b[39m 2.1.3     \u001b[32m✔\u001b[39m \u001b[34mforcats\u001b[39m 0.5.2\n",
      "── \u001b[1mConflicts\u001b[22m ────────────────────────────────────────── tidyverse_conflicts() ──\n",
      "\u001b[31m✖\u001b[39m \u001b[34mdplyr\u001b[39m::\u001b[32mfilter()\u001b[39m masks \u001b[34mstats\u001b[39m::filter()\n",
      "\u001b[31m✖\u001b[39m \u001b[34mdplyr\u001b[39m::\u001b[32mlag()\u001b[39m    masks \u001b[34mstats\u001b[39m::lag()\n",
      "── \u001b[1mAttaching packages\u001b[22m ────────────────────────────────────── tidymodels 1.0.0 ──\n",
      "\n",
      "\u001b[32m✔\u001b[39m \u001b[34mbroom       \u001b[39m 1.0.2     \u001b[32m✔\u001b[39m \u001b[34mrsample     \u001b[39m 1.1.1\n",
      "\u001b[32m✔\u001b[39m \u001b[34mdials       \u001b[39m 1.1.0     \u001b[32m✔\u001b[39m \u001b[34mtune        \u001b[39m 1.0.1\n",
      "\u001b[32m✔\u001b[39m \u001b[34minfer       \u001b[39m 1.0.4     \u001b[32m✔\u001b[39m \u001b[34mworkflows   \u001b[39m 1.1.2\n",
      "\u001b[32m✔\u001b[39m \u001b[34mmodeldata   \u001b[39m 1.0.1     \u001b[32m✔\u001b[39m \u001b[34mworkflowsets\u001b[39m 1.0.0\n",
      "\u001b[32m✔\u001b[39m \u001b[34mparsnip     \u001b[39m 1.0.3     \u001b[32m✔\u001b[39m \u001b[34myardstick   \u001b[39m 1.1.0\n",
      "\u001b[32m✔\u001b[39m \u001b[34mrecipes     \u001b[39m 1.0.4     \n",
      "\n",
      "── \u001b[1mConflicts\u001b[22m ───────────────────────────────────────── tidymodels_conflicts() ──\n",
      "\u001b[31m✖\u001b[39m \u001b[34mscales\u001b[39m::\u001b[32mdiscard()\u001b[39m masks \u001b[34mpurrr\u001b[39m::discard()\n",
      "\u001b[31m✖\u001b[39m \u001b[34mdplyr\u001b[39m::\u001b[32mfilter()\u001b[39m   masks \u001b[34mstats\u001b[39m::filter()\n",
      "\u001b[31m✖\u001b[39m \u001b[34mrecipes\u001b[39m::\u001b[32mfixed()\u001b[39m  masks \u001b[34mstringr\u001b[39m::fixed()\n",
      "\u001b[31m✖\u001b[39m \u001b[34mdplyr\u001b[39m::\u001b[32mlag()\u001b[39m      masks \u001b[34mstats\u001b[39m::lag()\n",
      "\u001b[31m✖\u001b[39m \u001b[34myardstick\u001b[39m::\u001b[32mspec()\u001b[39m masks \u001b[34mreadr\u001b[39m::spec()\n",
      "\u001b[31m✖\u001b[39m \u001b[34mrecipes\u001b[39m::\u001b[32mstep()\u001b[39m   masks \u001b[34mstats\u001b[39m::step()\n",
      "\u001b[34m•\u001b[39m Use \u001b[32mtidymodels_prefer()\u001b[39m to resolve common conflicts.\n",
      "\n"
     ]
    }
   ],
   "source": [
    "### Run this cell before continuing. \n",
    "library(tidyverse)\n",
    "library(repr)\n",
    "library(readxl)\n",
    "library(tidymodels)\n",
    "# library(rvest)\n",
    "# library(stringr)\n",
    "# install.packages('janitor')\n",
    "# library(janitor)\n",
    "library(ggplot2)\n",
    "#options(repr.matrix.max.rows = 50)"
   ]
  },
  {
   "cell_type": "code",
   "execution_count": 2,
   "id": "ff824014-411b-49e7-93b0-8dbb7b4e76de",
   "metadata": {
    "tags": []
   },
   "outputs": [
    {
     "name": "stderr",
     "output_type": "stream",
     "text": [
      "\u001b[1mRows: \u001b[22m\u001b[34m303\u001b[39m \u001b[1mColumns: \u001b[22m\u001b[34m14\u001b[39m\n",
      "\u001b[36m──\u001b[39m \u001b[1mColumn specification\u001b[22m \u001b[36m────────────────────────────────────────────────────────\u001b[39m\n",
      "\u001b[1mDelimiter:\u001b[22m \",\"\n",
      "\u001b[32mdbl\u001b[39m (14): age, sex, cp, trestbps, chol, fbs, restecg, thalach, exang, oldpea...\n",
      "\n",
      "\u001b[36mℹ\u001b[39m Use `spec()` to retrieve the full column specification for this data.\n",
      "\u001b[36mℹ\u001b[39m Specify the column types or set `show_col_types = FALSE` to quiet this message.\n",
      "\u001b[1mRows: \u001b[22m\u001b[34m1\u001b[39m \u001b[1mColumns: \u001b[22m\u001b[34m14\u001b[39m\n",
      "\u001b[36m──\u001b[39m \u001b[1mColumn specification\u001b[22m \u001b[36m────────────────────────────────────────────────────────\u001b[39m\n",
      "\u001b[1mDelimiter:\u001b[22m \",\"\n",
      "\u001b[32mdbl\u001b[39m (14): age, sex, cp, trestbps, chol, fbs, restecg, thalach, exang, oldpea...\n",
      "\n",
      "\u001b[36mℹ\u001b[39m Use `spec()` to retrieve the full column specification for this data.\n",
      "\u001b[36mℹ\u001b[39m Specify the column types or set `show_col_types = FALSE` to quiet this message.\n",
      "\u001b[1mRows: \u001b[22m\u001b[34m123\u001b[39m \u001b[1mColumns: \u001b[22m\u001b[34m14\u001b[39m\n",
      "\u001b[36m──\u001b[39m \u001b[1mColumn specification\u001b[22m \u001b[36m────────────────────────────────────────────────────────\u001b[39m\n",
      "\u001b[1mDelimiter:\u001b[22m \",\"\n",
      "\u001b[31mchr\u001b[39m (9): trestbps, fbs, restecg, thalach, exang, oldpeak, slope, ca, thal\n",
      "\u001b[32mdbl\u001b[39m (5): age, sex, cp, chol, num\n",
      "\n",
      "\u001b[36mℹ\u001b[39m Use `spec()` to retrieve the full column specification for this data.\n",
      "\u001b[36mℹ\u001b[39m Specify the column types or set `show_col_types = FALSE` to quiet this message.\n",
      "Warning message:\n",
      "“\u001b[1m\u001b[22mThere were 9 warnings in `mutate()`.\n",
      "The first warning was:\n",
      "\u001b[1m\u001b[22m\u001b[36mℹ\u001b[39m In argument: `trestbps = as.numeric(trestbps)`.\n",
      "Caused by warning:\n",
      "\u001b[33m!\u001b[39m NAs introduced by coercion\n",
      "\u001b[1m\u001b[22m\u001b[36mℹ\u001b[39m Run `dplyr::last_dplyr_warnings()` to see the 8 remaining warnings.”\n",
      "\u001b[1mRows: \u001b[22m\u001b[34m200\u001b[39m \u001b[1mColumns: \u001b[22m\u001b[34m14\u001b[39m\n",
      "\u001b[36m──\u001b[39m \u001b[1mColumn specification\u001b[22m \u001b[36m────────────────────────────────────────────────────────\u001b[39m\n",
      "\u001b[1mDelimiter:\u001b[22m \",\"\n",
      "\u001b[31mchr\u001b[39m (9): trestbps, chol, fbs, thalach, exang, oldpeak, slope, ca, thal\n",
      "\u001b[32mdbl\u001b[39m (5): age, sex, cp, restecg, num\n",
      "\n",
      "\u001b[36mℹ\u001b[39m Use `spec()` to retrieve the full column specification for this data.\n",
      "\u001b[36mℹ\u001b[39m Specify the column types or set `show_col_types = FALSE` to quiet this message.\n",
      "Warning message:\n",
      "“\u001b[1m\u001b[22mThere were 9 warnings in `mutate()`.\n",
      "The first warning was:\n",
      "\u001b[1m\u001b[22m\u001b[36mℹ\u001b[39m In argument: `trestbps = as.numeric(trestbps)`.\n",
      "Caused by warning:\n",
      "\u001b[33m!\u001b[39m NAs introduced by coercion\n",
      "\u001b[1m\u001b[22m\u001b[36mℹ\u001b[39m Run `dplyr::last_dplyr_warnings()` to see the 8 remaining warnings.”\n",
      "\u001b[1mRows: \u001b[22m\u001b[34m294\u001b[39m \u001b[1mColumns: \u001b[22m\u001b[34m14\u001b[39m\n",
      "\u001b[36m──\u001b[39m \u001b[1mColumn specification\u001b[22m \u001b[36m────────────────────────────────────────────────────────\u001b[39m\n",
      "\u001b[1mDelimiter:\u001b[22m \" \"\n",
      "\u001b[32mdbl\u001b[39m (14): age, sex, cp, trestbps, chol, fbs, restecg, thalach, exang, oldpea...\n",
      "\n",
      "\u001b[36mℹ\u001b[39m Use `spec()` to retrieve the full column specification for this data.\n",
      "\u001b[36mℹ\u001b[39m Specify the column types or set `show_col_types = FALSE` to quiet this message.\n"
     ]
    },
    {
     "data": {
      "text/html": [
       "<table class=\"dataframe\">\n",
       "<caption>A spec_tbl_df: 25 × 14</caption>\n",
       "<thead>\n",
       "\t<tr><th scope=col>age</th><th scope=col>sex</th><th scope=col>cp</th><th scope=col>trestbps</th><th scope=col>chol</th><th scope=col>fbs</th><th scope=col>restecg</th><th scope=col>thalach</th><th scope=col>exang</th><th scope=col>oldpeak</th><th scope=col>slope</th><th scope=col>ca</th><th scope=col>thal</th><th scope=col>num</th></tr>\n",
       "\t<tr><th scope=col>&lt;dbl&gt;</th><th scope=col>&lt;dbl&gt;</th><th scope=col>&lt;dbl&gt;</th><th scope=col>&lt;dbl&gt;</th><th scope=col>&lt;dbl&gt;</th><th scope=col>&lt;dbl&gt;</th><th scope=col>&lt;dbl&gt;</th><th scope=col>&lt;dbl&gt;</th><th scope=col>&lt;dbl&gt;</th><th scope=col>&lt;dbl&gt;</th><th scope=col>&lt;dbl&gt;</th><th scope=col>&lt;dbl&gt;</th><th scope=col>&lt;dbl&gt;</th><th scope=col>&lt;dbl&gt;</th></tr>\n",
       "</thead>\n",
       "<tbody>\n",
       "\t<tr><td>63</td><td>1</td><td>1</td><td>145</td><td>233</td><td>1</td><td>2</td><td>150</td><td>0</td><td>2.3</td><td>3</td><td>0</td><td>6</td><td>0</td></tr>\n",
       "\t<tr><td>67</td><td>1</td><td>4</td><td>160</td><td>286</td><td>0</td><td>2</td><td>108</td><td>1</td><td>1.5</td><td>2</td><td>3</td><td>3</td><td>2</td></tr>\n",
       "\t<tr><td>67</td><td>1</td><td>4</td><td>120</td><td>229</td><td>0</td><td>2</td><td>129</td><td>1</td><td>2.6</td><td>2</td><td>2</td><td>7</td><td>1</td></tr>\n",
       "\t<tr><td>37</td><td>1</td><td>3</td><td>130</td><td>250</td><td>0</td><td>0</td><td>187</td><td>0</td><td>3.5</td><td>3</td><td>0</td><td>3</td><td>0</td></tr>\n",
       "\t<tr><td>41</td><td>0</td><td>2</td><td>130</td><td>204</td><td>0</td><td>2</td><td>172</td><td>0</td><td>1.4</td><td>1</td><td>0</td><td>3</td><td>0</td></tr>\n",
       "\t<tr><td>56</td><td>1</td><td>2</td><td>120</td><td>236</td><td>0</td><td>0</td><td>178</td><td>0</td><td>0.8</td><td>1</td><td>0</td><td>3</td><td>0</td></tr>\n",
       "\t<tr><td>62</td><td>0</td><td>4</td><td>140</td><td>268</td><td>0</td><td>2</td><td>160</td><td>0</td><td>3.6</td><td>3</td><td>2</td><td>3</td><td>3</td></tr>\n",
       "\t<tr><td>57</td><td>0</td><td>4</td><td>120</td><td>354</td><td>0</td><td>0</td><td>163</td><td>1</td><td>0.6</td><td>1</td><td>0</td><td>3</td><td>0</td></tr>\n",
       "\t<tr><td>63</td><td>1</td><td>4</td><td>130</td><td>254</td><td>0</td><td>2</td><td>147</td><td>0</td><td>1.4</td><td>2</td><td>1</td><td>7</td><td>2</td></tr>\n",
       "\t<tr><td>53</td><td>1</td><td>4</td><td>140</td><td>203</td><td>1</td><td>2</td><td>155</td><td>1</td><td>3.1</td><td>3</td><td>0</td><td>7</td><td>1</td></tr>\n",
       "\t<tr><td>57</td><td>1</td><td>4</td><td>140</td><td>192</td><td>0</td><td>0</td><td>148</td><td>0</td><td>0.4</td><td>2</td><td>0</td><td>6</td><td>0</td></tr>\n",
       "\t<tr><td>56</td><td>0</td><td>2</td><td>140</td><td>294</td><td>0</td><td>2</td><td>153</td><td>0</td><td>1.3</td><td>2</td><td>0</td><td>3</td><td>0</td></tr>\n",
       "\t<tr><td>56</td><td>1</td><td>3</td><td>130</td><td>256</td><td>1</td><td>2</td><td>142</td><td>1</td><td>0.6</td><td>2</td><td>1</td><td>6</td><td>2</td></tr>\n",
       "\t<tr><td>44</td><td>1</td><td>2</td><td>120</td><td>263</td><td>0</td><td>0</td><td>173</td><td>0</td><td>0.0</td><td>1</td><td>0</td><td>7</td><td>0</td></tr>\n",
       "\t<tr><td>52</td><td>1</td><td>3</td><td>172</td><td>199</td><td>1</td><td>0</td><td>162</td><td>0</td><td>0.5</td><td>1</td><td>0</td><td>7</td><td>0</td></tr>\n",
       "\t<tr><td>57</td><td>1</td><td>3</td><td>150</td><td>168</td><td>0</td><td>0</td><td>174</td><td>0</td><td>1.6</td><td>1</td><td>0</td><td>3</td><td>0</td></tr>\n",
       "\t<tr><td>48</td><td>1</td><td>2</td><td>110</td><td>229</td><td>0</td><td>0</td><td>168</td><td>0</td><td>1.0</td><td>3</td><td>0</td><td>7</td><td>1</td></tr>\n",
       "\t<tr><td>54</td><td>1</td><td>4</td><td>140</td><td>239</td><td>0</td><td>0</td><td>160</td><td>0</td><td>1.2</td><td>1</td><td>0</td><td>3</td><td>0</td></tr>\n",
       "\t<tr><td>48</td><td>0</td><td>3</td><td>130</td><td>275</td><td>0</td><td>0</td><td>139</td><td>0</td><td>0.2</td><td>1</td><td>0</td><td>3</td><td>0</td></tr>\n",
       "\t<tr><td>49</td><td>1</td><td>2</td><td>130</td><td>266</td><td>0</td><td>0</td><td>171</td><td>0</td><td>0.6</td><td>1</td><td>0</td><td>3</td><td>0</td></tr>\n",
       "\t<tr><td>64</td><td>1</td><td>1</td><td>110</td><td>211</td><td>0</td><td>2</td><td>144</td><td>1</td><td>1.8</td><td>2</td><td>0</td><td>3</td><td>0</td></tr>\n",
       "\t<tr><td>58</td><td>0</td><td>1</td><td>150</td><td>283</td><td>1</td><td>2</td><td>162</td><td>0</td><td>1.0</td><td>1</td><td>0</td><td>3</td><td>0</td></tr>\n",
       "\t<tr><td>58</td><td>1</td><td>2</td><td>120</td><td>284</td><td>0</td><td>2</td><td>160</td><td>0</td><td>1.8</td><td>2</td><td>0</td><td>3</td><td>1</td></tr>\n",
       "\t<tr><td>58</td><td>1</td><td>3</td><td>132</td><td>224</td><td>0</td><td>2</td><td>173</td><td>0</td><td>3.2</td><td>1</td><td>2</td><td>7</td><td>3</td></tr>\n",
       "\t<tr><td>60</td><td>1</td><td>4</td><td>130</td><td>206</td><td>0</td><td>2</td><td>132</td><td>1</td><td>2.4</td><td>2</td><td>2</td><td>7</td><td>4</td></tr>\n",
       "</tbody>\n",
       "</table>\n"
      ],
      "text/latex": [
       "A spec\\_tbl\\_df: 25 × 14\n",
       "\\begin{tabular}{llllllllllllll}\n",
       " age & sex & cp & trestbps & chol & fbs & restecg & thalach & exang & oldpeak & slope & ca & thal & num\\\\\n",
       " <dbl> & <dbl> & <dbl> & <dbl> & <dbl> & <dbl> & <dbl> & <dbl> & <dbl> & <dbl> & <dbl> & <dbl> & <dbl> & <dbl>\\\\\n",
       "\\hline\n",
       "\t 63 & 1 & 1 & 145 & 233 & 1 & 2 & 150 & 0 & 2.3 & 3 & 0 & 6 & 0\\\\\n",
       "\t 67 & 1 & 4 & 160 & 286 & 0 & 2 & 108 & 1 & 1.5 & 2 & 3 & 3 & 2\\\\\n",
       "\t 67 & 1 & 4 & 120 & 229 & 0 & 2 & 129 & 1 & 2.6 & 2 & 2 & 7 & 1\\\\\n",
       "\t 37 & 1 & 3 & 130 & 250 & 0 & 0 & 187 & 0 & 3.5 & 3 & 0 & 3 & 0\\\\\n",
       "\t 41 & 0 & 2 & 130 & 204 & 0 & 2 & 172 & 0 & 1.4 & 1 & 0 & 3 & 0\\\\\n",
       "\t 56 & 1 & 2 & 120 & 236 & 0 & 0 & 178 & 0 & 0.8 & 1 & 0 & 3 & 0\\\\\n",
       "\t 62 & 0 & 4 & 140 & 268 & 0 & 2 & 160 & 0 & 3.6 & 3 & 2 & 3 & 3\\\\\n",
       "\t 57 & 0 & 4 & 120 & 354 & 0 & 0 & 163 & 1 & 0.6 & 1 & 0 & 3 & 0\\\\\n",
       "\t 63 & 1 & 4 & 130 & 254 & 0 & 2 & 147 & 0 & 1.4 & 2 & 1 & 7 & 2\\\\\n",
       "\t 53 & 1 & 4 & 140 & 203 & 1 & 2 & 155 & 1 & 3.1 & 3 & 0 & 7 & 1\\\\\n",
       "\t 57 & 1 & 4 & 140 & 192 & 0 & 0 & 148 & 0 & 0.4 & 2 & 0 & 6 & 0\\\\\n",
       "\t 56 & 0 & 2 & 140 & 294 & 0 & 2 & 153 & 0 & 1.3 & 2 & 0 & 3 & 0\\\\\n",
       "\t 56 & 1 & 3 & 130 & 256 & 1 & 2 & 142 & 1 & 0.6 & 2 & 1 & 6 & 2\\\\\n",
       "\t 44 & 1 & 2 & 120 & 263 & 0 & 0 & 173 & 0 & 0.0 & 1 & 0 & 7 & 0\\\\\n",
       "\t 52 & 1 & 3 & 172 & 199 & 1 & 0 & 162 & 0 & 0.5 & 1 & 0 & 7 & 0\\\\\n",
       "\t 57 & 1 & 3 & 150 & 168 & 0 & 0 & 174 & 0 & 1.6 & 1 & 0 & 3 & 0\\\\\n",
       "\t 48 & 1 & 2 & 110 & 229 & 0 & 0 & 168 & 0 & 1.0 & 3 & 0 & 7 & 1\\\\\n",
       "\t 54 & 1 & 4 & 140 & 239 & 0 & 0 & 160 & 0 & 1.2 & 1 & 0 & 3 & 0\\\\\n",
       "\t 48 & 0 & 3 & 130 & 275 & 0 & 0 & 139 & 0 & 0.2 & 1 & 0 & 3 & 0\\\\\n",
       "\t 49 & 1 & 2 & 130 & 266 & 0 & 0 & 171 & 0 & 0.6 & 1 & 0 & 3 & 0\\\\\n",
       "\t 64 & 1 & 1 & 110 & 211 & 0 & 2 & 144 & 1 & 1.8 & 2 & 0 & 3 & 0\\\\\n",
       "\t 58 & 0 & 1 & 150 & 283 & 1 & 2 & 162 & 0 & 1.0 & 1 & 0 & 3 & 0\\\\\n",
       "\t 58 & 1 & 2 & 120 & 284 & 0 & 2 & 160 & 0 & 1.8 & 2 & 0 & 3 & 1\\\\\n",
       "\t 58 & 1 & 3 & 132 & 224 & 0 & 2 & 173 & 0 & 3.2 & 1 & 2 & 7 & 3\\\\\n",
       "\t 60 & 1 & 4 & 130 & 206 & 0 & 2 & 132 & 1 & 2.4 & 2 & 2 & 7 & 4\\\\\n",
       "\\end{tabular}\n"
      ],
      "text/markdown": [
       "\n",
       "A spec_tbl_df: 25 × 14\n",
       "\n",
       "| age &lt;dbl&gt; | sex &lt;dbl&gt; | cp &lt;dbl&gt; | trestbps &lt;dbl&gt; | chol &lt;dbl&gt; | fbs &lt;dbl&gt; | restecg &lt;dbl&gt; | thalach &lt;dbl&gt; | exang &lt;dbl&gt; | oldpeak &lt;dbl&gt; | slope &lt;dbl&gt; | ca &lt;dbl&gt; | thal &lt;dbl&gt; | num &lt;dbl&gt; |\n",
       "|---|---|---|---|---|---|---|---|---|---|---|---|---|---|\n",
       "| 63 | 1 | 1 | 145 | 233 | 1 | 2 | 150 | 0 | 2.3 | 3 | 0 | 6 | 0 |\n",
       "| 67 | 1 | 4 | 160 | 286 | 0 | 2 | 108 | 1 | 1.5 | 2 | 3 | 3 | 2 |\n",
       "| 67 | 1 | 4 | 120 | 229 | 0 | 2 | 129 | 1 | 2.6 | 2 | 2 | 7 | 1 |\n",
       "| 37 | 1 | 3 | 130 | 250 | 0 | 0 | 187 | 0 | 3.5 | 3 | 0 | 3 | 0 |\n",
       "| 41 | 0 | 2 | 130 | 204 | 0 | 2 | 172 | 0 | 1.4 | 1 | 0 | 3 | 0 |\n",
       "| 56 | 1 | 2 | 120 | 236 | 0 | 0 | 178 | 0 | 0.8 | 1 | 0 | 3 | 0 |\n",
       "| 62 | 0 | 4 | 140 | 268 | 0 | 2 | 160 | 0 | 3.6 | 3 | 2 | 3 | 3 |\n",
       "| 57 | 0 | 4 | 120 | 354 | 0 | 0 | 163 | 1 | 0.6 | 1 | 0 | 3 | 0 |\n",
       "| 63 | 1 | 4 | 130 | 254 | 0 | 2 | 147 | 0 | 1.4 | 2 | 1 | 7 | 2 |\n",
       "| 53 | 1 | 4 | 140 | 203 | 1 | 2 | 155 | 1 | 3.1 | 3 | 0 | 7 | 1 |\n",
       "| 57 | 1 | 4 | 140 | 192 | 0 | 0 | 148 | 0 | 0.4 | 2 | 0 | 6 | 0 |\n",
       "| 56 | 0 | 2 | 140 | 294 | 0 | 2 | 153 | 0 | 1.3 | 2 | 0 | 3 | 0 |\n",
       "| 56 | 1 | 3 | 130 | 256 | 1 | 2 | 142 | 1 | 0.6 | 2 | 1 | 6 | 2 |\n",
       "| 44 | 1 | 2 | 120 | 263 | 0 | 0 | 173 | 0 | 0.0 | 1 | 0 | 7 | 0 |\n",
       "| 52 | 1 | 3 | 172 | 199 | 1 | 0 | 162 | 0 | 0.5 | 1 | 0 | 7 | 0 |\n",
       "| 57 | 1 | 3 | 150 | 168 | 0 | 0 | 174 | 0 | 1.6 | 1 | 0 | 3 | 0 |\n",
       "| 48 | 1 | 2 | 110 | 229 | 0 | 0 | 168 | 0 | 1.0 | 3 | 0 | 7 | 1 |\n",
       "| 54 | 1 | 4 | 140 | 239 | 0 | 0 | 160 | 0 | 1.2 | 1 | 0 | 3 | 0 |\n",
       "| 48 | 0 | 3 | 130 | 275 | 0 | 0 | 139 | 0 | 0.2 | 1 | 0 | 3 | 0 |\n",
       "| 49 | 1 | 2 | 130 | 266 | 0 | 0 | 171 | 0 | 0.6 | 1 | 0 | 3 | 0 |\n",
       "| 64 | 1 | 1 | 110 | 211 | 0 | 2 | 144 | 1 | 1.8 | 2 | 0 | 3 | 0 |\n",
       "| 58 | 0 | 1 | 150 | 283 | 1 | 2 | 162 | 0 | 1.0 | 1 | 0 | 3 | 0 |\n",
       "| 58 | 1 | 2 | 120 | 284 | 0 | 2 | 160 | 0 | 1.8 | 2 | 0 | 3 | 1 |\n",
       "| 58 | 1 | 3 | 132 | 224 | 0 | 2 | 173 | 0 | 3.2 | 1 | 2 | 7 | 3 |\n",
       "| 60 | 1 | 4 | 130 | 206 | 0 | 2 | 132 | 1 | 2.4 | 2 | 2 | 7 | 4 |\n",
       "\n"
      ],
      "text/plain": [
       "   age sex cp trestbps chol fbs restecg thalach exang oldpeak slope ca thal num\n",
       "1  63  1   1  145      233  1   2       150     0     2.3     3     0  6    0  \n",
       "2  67  1   4  160      286  0   2       108     1     1.5     2     3  3    2  \n",
       "3  67  1   4  120      229  0   2       129     1     2.6     2     2  7    1  \n",
       "4  37  1   3  130      250  0   0       187     0     3.5     3     0  3    0  \n",
       "5  41  0   2  130      204  0   2       172     0     1.4     1     0  3    0  \n",
       "6  56  1   2  120      236  0   0       178     0     0.8     1     0  3    0  \n",
       "7  62  0   4  140      268  0   2       160     0     3.6     3     2  3    3  \n",
       "8  57  0   4  120      354  0   0       163     1     0.6     1     0  3    0  \n",
       "9  63  1   4  130      254  0   2       147     0     1.4     2     1  7    2  \n",
       "10 53  1   4  140      203  1   2       155     1     3.1     3     0  7    1  \n",
       "11 57  1   4  140      192  0   0       148     0     0.4     2     0  6    0  \n",
       "12 56  0   2  140      294  0   2       153     0     1.3     2     0  3    0  \n",
       "13 56  1   3  130      256  1   2       142     1     0.6     2     1  6    2  \n",
       "14 44  1   2  120      263  0   0       173     0     0.0     1     0  7    0  \n",
       "15 52  1   3  172      199  1   0       162     0     0.5     1     0  7    0  \n",
       "16 57  1   3  150      168  0   0       174     0     1.6     1     0  3    0  \n",
       "17 48  1   2  110      229  0   0       168     0     1.0     3     0  7    1  \n",
       "18 54  1   4  140      239  0   0       160     0     1.2     1     0  3    0  \n",
       "19 48  0   3  130      275  0   0       139     0     0.2     1     0  3    0  \n",
       "20 49  1   2  130      266  0   0       171     0     0.6     1     0  3    0  \n",
       "21 64  1   1  110      211  0   2       144     1     1.8     2     0  3    0  \n",
       "22 58  0   1  150      283  1   2       162     0     1.0     1     0  3    0  \n",
       "23 58  1   2  120      284  0   2       160     0     1.8     2     0  3    1  \n",
       "24 58  1   3  132      224  0   2       173     0     3.2     1     2  7    3  \n",
       "25 60  1   4  130      206  0   2       132     1     2.4     2     2  7    4  "
      ]
     },
     "metadata": {},
     "output_type": "display_data"
    }
   ],
   "source": [
    "# reading a csv file containing the data in processed.cleveland.data, \n",
    "# with a row of column names (these names are essentially the column names specified in cleve.mod, under ‘Original atts’, without the stuff in brackets)\n",
    "options(repr.matrix.max.rows = 25)\n",
    "\n",
    "cleveland_dataset_web <- read_csv(file = url(\"https://archive.ics.uci.edu/static/public/45/data.csv\"))\n",
    "\n",
    "# extracting the column names from the very first line of the csv file (because the other files I plan to import do not contain column names)\n",
    "first_row_contents <- read_csv(file = url(\"https://archive.ics.uci.edu/static/public/45/data.csv\"), n_max = 1) |> names()\n",
    "\n",
    "# reading a file containing the data in processed.switzerland.data\n",
    "switzerland_dataset_web <- read_delim(file = url(\"https://archive.ics.uci.edu/ml/machine-learning-databases/heart-disease/processed.switzerland.data\"), \n",
    "                                    delim = \",\", col_names = first_row_contents) |>\n",
    "                        mutate(trestbps = as.numeric(trestbps), chol = as.numeric(chol), fbs = as.numeric(fbs), restecg = as.numeric(restecg), \n",
    "                               thalach = as.numeric(thalach), exang = as.numeric(exang), oldpeak = as.numeric(oldpeak),\n",
    "                               slope = as.numeric(slope), ca = as.numeric(ca), thal = as.numeric(thal))\n",
    "\n",
    "# reading a file containing the data in processed.va.data\n",
    "virginia_dataset_web <- read_delim(file = url(\"https://archive.ics.uci.edu/ml/machine-learning-databases/heart-disease/processed.va.data\"), \n",
    "                                    delim = \",\", col_names = first_row_contents) |>\n",
    "                        mutate(trestbps = as.numeric(trestbps), chol = as.numeric(chol), fbs = as.numeric(fbs), \n",
    "                               thalach = as.numeric(thalach), exang = as.numeric(exang), oldpeak = as.numeric(oldpeak),\n",
    "                               slope = as.numeric(slope), ca = as.numeric(ca), thal = as.numeric(thal))\n",
    "\n",
    "# reading a file containing the data in reprocessed.hungarian.data\n",
    "reprocessed_hungarian_dataset_web <- read_delim(file = url(\"https://archive.ics.uci.edu/ml/machine-learning-databases/heart-disease/reprocessed.hungarian.data\"), \n",
    "                                    delim = \" \", col_names = first_row_contents) |>\n",
    "                        mutate(trestbps = as.numeric(trestbps), chol = as.numeric(chol), fbs = as.numeric(fbs), restecg = as.numeric(restecg), \n",
    "                               thalach = as.numeric(thalach), exang = as.numeric(exang), oldpeak = as.numeric(oldpeak),\n",
    "                               slope = as.numeric(slope), ca = as.numeric(ca), thal = as.numeric(thal))\n",
    "\n",
    "# reading the file titled heart-disease.names, because I will reference information when justifying some of the decisions we made as far as tidying the data is concerned\n",
    "notes_about_data <- read_file(file = url(\"https://archive.ics.uci.edu/ml/machine-learning-databases/heart-disease/heart-disease.names\"))\n",
    "\n",
    "global_dataset_missing <- bind_rows(cleveland_dataset_web, switzerland_dataset_web, virginia_dataset_web, reprocessed_hungarian_dataset_web)\n",
    "\n",
    "global_dataset_missing_first_25_rows <- global_dataset_missing |> slice(1:25)\n",
    "global_dataset_missing_first_25_rows"
   ]
  },
  {
   "cell_type": "markdown",
   "id": "1922be75-681b-4e9c-aa1b-36a02eacb89f",
   "metadata": {},
   "source": [
    "Here we convert the value -9 into NA, because of this excerpt from the file named heart-disease.names: \n",
    "> \"Missing Attribute Values: Several.  Distinguished with value -9.0.\""
   ]
  },
  {
   "cell_type": "code",
   "execution_count": 3,
   "id": "c32c2684-141f-4867-b73a-0dc3d5b3cd12",
   "metadata": {
    "tags": []
   },
   "outputs": [
    {
     "ename": "ERROR",
     "evalue": "Error in eval(expr, envir, enclos): object 'global_dataset' not found\n",
     "output_type": "error",
     "traceback": [
      "Error in eval(expr, envir, enclos): object 'global_dataset' not found\nTraceback:\n"
     ]
    }
   ],
   "source": [
    "na_matrix <- global_dataset_missing == \"-9\"\n",
    "\n",
    "is.na(global_dataset_missing) <- na_matrix"
   ]
  },
  {
   "cell_type": "markdown",
   "id": "c8dc05d4-2fc9-40ae-9098-a047a8dcd0f3",
   "metadata": {},
   "source": [
    "# Cleaning and wrangling the data into a tidy format #"
   ]
  },
  {
   "cell_type": "markdown",
   "id": "9226b0b7-9719-4b52-a1bb-2404b500871f",
   "metadata": {
    "tags": []
   },
   "source": [
    "## 1) summarizing the data in at least one table using only training data: ##"
   ]
  },
  {
   "cell_type": "markdown",
   "id": "2853a88d-1c55-415c-96b3-de710de6ea9e",
   "metadata": {},
   "source": [
    "we now try to create\n",
    "a table that reports \n",
    "the number of healthy and sick observations,\n",
    "the number of rows with missing values for healthy and sick observations,\n",
    "the percentage of healthy and sick observations,\n",
    "the average ages, resting blood pressures, cholesterol,\n",
    " max heart rate, ST depression induced by exercise relative to rest,\n",
    "and the average number of vessels colored by flourosopy for healthy and sick observations\n",
    "for each class in our dataset"
   ]
  },
  {
   "cell_type": "markdown",
   "id": "0dc39973-ae8d-46a2-b1d1-425208e5a8f5",
   "metadata": {},
   "source": [
    "The description of the num attribute in heart-disease.names doesn't match the possible values of num in any of the 4 data files we're using in our analysis.\n",
    "\n",
    "here are the discrepancies:\n",
    "\n",
    "a) under the subsection of heart-disease.names titled \"7. Attribute Information\", \n",
    "it states that num can either be 0 or 1, but looking through our data, values of num in the range 0:4 can be found within the first 25 rows of global_dataset\n",
    "\n",
    "b) under the subsection of heart-disease.names titled \"7. Attribute Information\", it is also stated that 0 indicates < 50% diameter narrowing,\n",
    "while 1 indicates > 50% diameter narrowing. However, it contradicts the description of num under the subsection of heart-disease.names titled \"4. Relevant Information\",\n",
    "which states that \"Experiments with the Cleveland database have concentrated on simply attempting to distinguish presence (values 1,2,3,4) from absence (value 0)\".\n",
    " \n",
    "As such, we strongly believe that 0 does not indicate < 50% diameter narrowing, and 1 does not indicate > 50% diameter narrowing.\n",
    "\n",
    "We proceed with our analysis based on the understanding that value 0 indicates absence of heart disease, while values 1, 2, 3, 4 indicate presence of heart disease"
   ]
  },
  {
   "cell_type": "code",
   "execution_count": null,
   "id": "9cef39e9-330c-4e6c-99e2-d57f0d447175",
   "metadata": {
    "tags": []
   },
   "outputs": [],
   "source": [
    "global_dataset_missing <- as_tibble(global_dataset_missing)\n",
    "\n",
    "global_dataset_missing |>\n",
    "      rename(Class = num) |>\n",
    "      mutate(Class = as.factor(Class)) |>\n",
    "      mutate(Class = fct_recode(Class, \"healthy\" = \"0\", \"sick\" = \"1\", \"sick\" = \"2\", \"sick\" = \"3\", \"sick\" = \"4\")) |>\n",
    "      mutate(row_contains_na = (is.na(age) | is.na(sex) | is.na(cp) | is.na(trestbps) | is.na(chol) | is.na(fbs) | is.na(restecg) | is.na(thalach) | is.na(exang) | is.na(oldpeak) | is.na(slope) | is.na(ca) | is.na(thal))) |>\n",
    "      group_by(Class) |>\n",
    "      summarize(\n",
    "         count = n(), \n",
    "         num_rows_with_na = sum(row_contains_na),\n",
    "         percentage = count / nrow(global_dataset_missing) * 100,\n",
    "         average_age = mean(age, na.rm = TRUE),\n",
    "         avg_resting_bp = mean(trestbps, na.rm = TRUE),\n",
    "         avg_cholestorol = mean(chol, na.rm = TRUE),\n",
    "         avg_max_hr = mean(thalach, na.rm = TRUE),\n",
    "         avg_oldpeak = mean(oldpeak, na.rm = TRUE),\n",
    "         avg_ca = mean(ca, na.rm = TRUE)\n",
    "         )\n",
    "\n",
    "global_dataset_missing |>\n",
    "      pivot_longer(cols = c(age, sex, cp, trestbps, chol, fbs, restecg, thalach, exang, oldpeak, slope, ca, thal)) |>\n",
    "      rename(Class = num) |>\n",
    "      mutate(Class = as.factor(Class)) |>\n",
    "      mutate(Class = fct_recode(Class, \"healthy\" = \"0\", \"sick\" = \"1\", \"sick\" = \"2\", \"sick\" = \"3\", \"sick\" = \"4\")) |>\n",
    "      group_by(Class, name) |>\n",
    "      summarize(\n",
    "         num_missing_values = sum(is.na(value))\n",
    "      ) |> \n",
    "      group_by(Class) |>\n",
    "      summarize(num_cols_with_na = sum(num_missing_values > 0))"
   ]
  },
  {
   "cell_type": "markdown",
   "id": "4feb41a1-7c5a-49c0-ba4a-5c4f7e40ae10",
   "metadata": {},
   "source": [
    "Explaining what the values of num_rows_with_na (third column of the first summary tibble) and num_cols_with_na (second column of the second summary table) represent:\n",
    "\n",
    "The third column of the first summary tibble conveys that, out of all the rows in the dataset, 439 of the rows corresponding to healthy observations have NA values, while 475 of rows corresponding to sick observations have NA values. Meanwhile, the second column of the second summary tibble conveys that, out of all the rows in the dataset, the NA values in the rows corresponding to healthy observations are all located in exactly 9 of the 14 columns while the NA values in the rows corresponding to sick observations are also located in exactly 10 of the 14 columns."
   ]
  },
  {
   "cell_type": "markdown",
   "id": "a811c40c-10da-4b47-b505-acb833fd1a36",
   "metadata": {},
   "source": [
    "# Justification for the datasets we chose to use: #\n",
    "\n",
    "After reading through lines 109 - 124 of **heart-disease.names**, \n",
    "it became clear to us that, although the data collected during numerous heart disease diagnoses could be partitioned into 76 attributes, only 14 of the attributes were eventually used in experiments revolving heart diseases. Since the objective of our project is to predict whether or not an observed individual may or may not have heart disease, we decided that we would also choose from the data files that consisted of only the 14 attributes that had been used by researchers.\n",
    "As such, our choices for data files were narrowed down to:\n",
    "> processed.cleveland.data\n",
    ">\n",
    "> data.csv \n",
    ">\n",
    "> processed.hungarian.data\n",
    ">\n",
    "> processed.switzerland.data\n",
    ">\n",
    "> processed.va.data\n",
    ">\n",
    "> reprocessed.hungarian.data\n",
    "\n",
    "Deciding between processed.cleveland.data and data.csv:\n",
    "> we saw that data.csv essentially contained the same information as processed.cleveland.data, \n",
    "> but data.csv also contained the names of the 14 attributes in the correct order. Therefore, \n",
    "> we decided to go with data.csv over processed.cleveland.data\n",
    "\n",
    "Deciding between processed.hungarian.data and reprocessed.hungarian.data\n",
    "> we saw that both files were identical save for the fact that the missing values in processed.hungarian.data were represented with a \"?\".\n",
    "> As such, we decided to go with reprocessed.hungarian.data over processed.hungarian.data"
   ]
  },
  {
   "cell_type": "code",
   "execution_count": null,
   "id": "11af767e-8a7e-44e6-8822-5d1f5ca941cb",
   "metadata": {
    "tags": []
   },
   "outputs": [],
   "source": [
    "# preparing the dataset for the code that generates visualizations\n",
    "global_dataset_missing <- global_dataset_missing |>\n",
    "      select(num, age, sex, cp, trestbps, chol, fbs, restecg, thalach, exang, oldpeak, slope, ca, thal)"
   ]
  },
  {
   "cell_type": "markdown",
   "id": "fa1ab65c-219c-4e18-8faa-f26ac4603887",
   "metadata": {},
   "source": [
    "Since a large proportion of rows in the dataset associated with both healthy and sick observations, respectively, have NA values, we have made the decision to impute the missing entries of each row in the dataset."
   ]
  },
  {
   "cell_type": "code",
   "execution_count": null,
   "id": "3406129e-c754-4578-8bee-8268e5d8b4b0",
   "metadata": {},
   "outputs": [],
   "source": [
    "options(repr.matrix.max.rows = 10)\n",
    "\n",
    "global_dataset_missing <- global_dataset_missing |>\n",
    "      rename(Class = num)\n",
    "\n",
    "impute_missing_recipe <- recipe(Class ~ age + trestbps + chol + thalach + oldpeak + ca, data = global_dataset_missing) |>\n",
    "  step_impute_mean(all_predictors()) |>\n",
    "  prep()\n",
    "# impute_missing_recipe\n",
    "\n",
    "imputed_global_dataset <- bake(impute_missing_recipe, global_dataset_missing)\n",
    "\n",
    "imputed_global_dataset <- imputed_global_dataset |>\n",
    "      select(Class, age, trestbps, chol, thalach, oldpeak, ca)"
   ]
  },
  {
   "cell_type": "code",
   "execution_count": null,
   "id": "4293ba9c-0c72-4c2a-8271-721e9b42e6ed",
   "metadata": {},
   "outputs": [],
   "source": [
    "global_dataset_missing <- global_dataset_missing |>\n",
    "\n",
    "\n",
    "      mutate(Class = as.factor(Class)) |>\n",
    "      mutate(Class = fct_recode(Class, \"healthy\" = \"0\", \"sick\" = \"1\", \"sick\" = \"2\", \"sick\" = \"3\", \"sick\" = \"4\")) |>\n",
    "\n",
    "\n",
    "      mutate(sex = as_factor(sex)) |>\n",
    "      mutate(sex = fct_recode(sex, \"male\" = \"1\", \"female\" = \"0\")) |>\n",
    "\n",
    "\n",
    "      mutate(cp = as_factor(cp)) |>\n",
    "      mutate(cp = fct_recode(cp, \"typical angina\" = \"1\", \"atypical angina\" = \"2\", \"non-anginal pain\" = \"3\", \"asymptomatic\" = \"4\")) |>\n",
    "\n",
    "\n",
    "      mutate(fbs = as_factor(fbs)) |>\n",
    "      mutate(fbs = fct_recode(fbs, \"true\" = \"1\", \"false\" = \"0\")) |>      \n",
    "\n",
    "\n",
    "      mutate(restecg = as_factor(restecg)) |>\n",
    "      mutate(restecg = fct_recode(restecg, \"normal\" = \"0\", \"ST-T wave abnormality\" = \"1\", \"left ventricular hypertrophy\" = \"2\")) |>\n",
    "\n",
    "\n",
    "      mutate(exang = as_factor(exang)) |>\n",
    "      mutate(exang = fct_recode(exang, \"yes\" = \"1\", \"no\" = \"0\")) |>\n",
    "\n",
    "\n",
    "      mutate(slope = as_factor(slope)) |>\n",
    "      mutate(slope = fct_recode(slope, \"upsloping\" = \"1\", \"flat\" = \"2\", \"downsloping\" = \"3\")) |>\n",
    "      \n",
    "\n",
    "      mutate(thal = as_factor(thal)) |>\n",
    "      mutate(thal = fct_recode(thal, \"normal\" = \"3\", \"fixed\" = \"6\", \"reversable\" = \"7\"))\n",
    "\n",
    "global_dataset_missing <- global_dataset_missing |>\n",
    "      rename(Age = age, Sex = sex, \"Chest_Pain_Type\" = cp, \"Resting_Blood_Pressure\" = trestbps, Cholesterol = chol, \"Fasting_blood_sugar_over_120_mg/dl\" = fbs,\n",
    "      \"Resting_ecg_results\" = restecg, \"Max_heart_rate\" = thalach, \"Exercise_induced_angina\" = exang, \"ST_depression_induced_by_exercise_relative_to_rest\" = oldpeak, \n",
    "      \"slope_of_the_peak_exercise_ST_segment\" = slope, \"Number_of_major_vessels_colored_by_flourosopy\" = ca, \"Thalassemia\" = thal)\n",
    "\n",
    "global_dataset_missing"
   ]
  },
  {
   "cell_type": "code",
   "execution_count": null,
   "id": "25775d6e-7c19-481e-9cce-aa730caf33bd",
   "metadata": {},
   "outputs": [],
   "source": [
    "imputed_global_dataset <- imputed_global_dataset |>\n",
    "\n",
    "      mutate(Class = as.factor(Class)) |>\n",
    "      mutate(Class = fct_recode(Class, \"healthy\" = \"0\", \"sick\" = \"1\", \"sick\" = \"2\", \"sick\" = \"3\", \"sick\" = \"4\"))\n",
    "\n",
    "imputed_global_dataset <- imputed_global_dataset |>\n",
    "      rename(Age = age, \"Resting_Blood_Pressure\" = trestbps, Cholesterol = chol, \"Max_heart_rate\" = thalach, \n",
    "      \"ST_depression_induced_by_exercise_relative_to_rest\" = oldpeak, \n",
    "      \"Number_of_major_vessels_colored_by_flourosopy\" = ca)\n",
    "\n",
    "imputed_global_dataset"
   ]
  },
  {
   "cell_type": "code",
   "execution_count": null,
   "id": "ab7b1a69-0d47-4258-bfcc-fe6e55d03183",
   "metadata": {},
   "outputs": [],
   "source": [
    "## 2) visualizing the data with a plot relevant to the analysis we plan to do using only training data: ##"
   ]
  },
  {
   "cell_type": "code",
   "execution_count": null,
   "id": "57a9dc29-5d86-4d72-8836-2cc6188c0a1e",
   "metadata": {
    "tags": []
   },
   "outputs": [],
   "source": [
    "options(repr.plot.width = 18, repr.plot.height = 18) \n",
    "\n",
    "# coloured and grouped-by-shape scatterplot\n",
    "\n",
    "# Max_heart_rate & ST_depression_induced_by_exercise_relative_to_rest\n",
    "mhr_oldpeak <- imputed_global_dataset |> \n",
    "    ggplot(aes(x = Max_heart_rate, y = ST_depression_induced_by_exercise_relative_to_rest)) + \n",
    "    geom_point(aes(colour = Class, shape = Class), size = 3) + \n",
    "    labs(title = \"Max Heart Rate versus ST Depression induced by exercise relative to rest\", x = \"Max Heart Rate\", y = \"ST Depression induced by exercise relative to rest\", colour = \"Heart Disease Diagnosis\", shape = \"Heart Disease Diagnosis\") + \n",
    "    theme(text = element_text(size = 20), plot.title = element_text(face = \"bold\"))\n",
    "mhr_oldpeak\n",
    "\n",
    "# Justification for why we decided to use scatterplots (with all possible pairings of numerical variables) to pick our predictor variables:\n",
    "\n",
    "# 1) We wanted to look for predictor variables from the set of numerical variables in our dataset, because we plan on using the KNN classification algorithm, \n",
    "# which is known to yield more accurate predictions when the predictor variables are numerical instead of categorical\n",
    "\n",
    "# 2) We created scatterplots (where for each distinct value of a class, the observations with that class value have a unique colour and shape) \n",
    "# for every possible pairing of numerical variables\n",
    "# because we thought that \n",
    "# by making scatterplots for each possible pairing of numerical variables \n",
    "# and comparing each of these plots to see which one shows the most apparent separation of the observations belonging to each of the distinct classes,\n",
    "# we'd be able to determine the best pair of predictor variables for KNN.\n",
    "# These variables would be the ones plotted on the x-axis and y-axis of the scatterplot with the clearest separation of the distinct classes.\n",
    "\n",
    "# In our case, since we felt that the plot of \"Max Heart Rate\" against \"ST depression induced by exercise relative to rest\" was the one that did the best job at showing the separation \n",
    "# of observations classified as 'healthy' and observations classified as 'sick', we came to the conclusion that the two aformentioned variables would be the most suitable predictor variables for KNN."
   ]
  },
  {
   "cell_type": "markdown",
   "id": "de5bc994-3f88-48ee-a23a-0db6e5244c33",
   "metadata": {},
   "source": [
    "# Methods #\n",
    "\n",
    "## Explain how you will conduct either your data analysis and which variables/columns you will use. ##\n",
    "\n",
    "K-nearest neighbors algorithm will be used to predict if a patient is healthy or sick based on their ST depression induced by exercise relative to rest and their maximum heart rate. Other variables like cholesterol and resting blood pressure were considered to be used for the classification model, but after plotting each of the variables against each other in scatterplots, it appeared that the ST depression vs maximum heart rate best clustered the data into sick and healthy groups.\n",
    "\n",
    "\n",
    "\n",
    "## Describe at least one way that you will visualize the results ##\n",
    "\n",
    "A scatterplot will be used to plot St depression induced by exercise relative to rest and their maximum heart rate. <br>\n",
    "The points will be colored and shaped based on sick vs. healthy to make the plot easier to read/ interpret.\n",
    "\n",
    "\n"
   ]
  },
  {
   "cell_type": "markdown",
   "id": "c694b016-8207-42df-90e1-c9f246be52c8",
   "metadata": {},
   "source": [
    "# Expected outcomes and significance #\n",
    "\n",
    "## What do you expect to find? ##\n",
    "This study aims to propose an accurate classification model for heart disease prediction using a machine learning classification algorithm, K-nearest neighbors, that can effectively categorize individuals based on their medical data.\n",
    "\n",
    "## What impact could such findings have? ##\n",
    "The findings of this study could have the potential to make an impact in the field of medical health since an accurate heart disease prediction model can assist intervention measures, which may lead to better patient outcomes.\n",
    "\n",
    "## What future questions could this lead to? ##\n",
    "Future questions that this could raise involve the comparability of the K-nearest neighbors classifier model to other models. <br><br> For example, <br> 1. How does the accuracy of prediction with the K-nearest neighbors approach compare with other prediction models based on different machine learning algorithms?\n",
    "<br>2. What are the advantages and limitations of the K-nearest neighbors method in comparison to the other methods in the case of predicting the heart disease?"
   ]
  },
  {
   "cell_type": "code",
   "execution_count": null,
   "id": "3f63a760-ee37-4658-a4c3-cad126adf538",
   "metadata": {},
   "outputs": [],
   "source": []
  }
 ],
 "metadata": {
  "kernelspec": {
   "display_name": "R",
   "language": "R",
   "name": "ir"
  },
  "language_info": {
   "codemirror_mode": "r",
   "file_extension": ".r",
   "mimetype": "text/x-r-source",
   "name": "R",
   "pygments_lexer": "r",
   "version": "4.2.2"
  },
  "widgets": {
   "application/vnd.jupyter.widget-state+json": {
    "state": {},
    "version_major": 2,
    "version_minor": 0
   }
  }
 },
 "nbformat": 4,
 "nbformat_minor": 5
}
